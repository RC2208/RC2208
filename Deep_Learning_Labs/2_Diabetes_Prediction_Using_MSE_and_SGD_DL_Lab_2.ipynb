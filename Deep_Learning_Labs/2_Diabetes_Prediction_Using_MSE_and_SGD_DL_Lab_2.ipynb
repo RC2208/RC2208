{
  "nbformat": 4,
  "nbformat_minor": 0,
  "metadata": {
    "colab": {
      "name": "2.Diabetes_Prediction_Using MSE_and SGD_DL Lab_2",
      "provenance": []
    },
    "kernelspec": {
      "name": "python3",
      "display_name": "Python 3"
    }
  },
  "cells": [
    {
      "cell_type": "markdown",
      "metadata": {
        "id": "Wy6kKTCZb_z1"
      },
      "source": [
        "Ritika Chand <br>\n"
      ]
    },
    {
      "cell_type": "code",
      "metadata": {
        "id": "yh6vAtz1uZa_"
      },
      "source": [
        "import numpy as np\n",
        "import pandas as pd\n",
        "import tensorflow as tf\n"
      ],
      "execution_count": null,
      "outputs": []
    },
    {
      "cell_type": "code",
      "metadata": {
        "colab": {
          "base_uri": "https://localhost:8080/",
          "height": 196
        },
        "id": "srTi98ZHuZcC",
        "outputId": "8afbeee9-c159-4d6f-e33d-7c88f51eeb57"
      },
      "source": [
        "df=pd.read_csv(\"diabetes.csv\")\n",
        "df.head()"
      ],
      "execution_count": null,
      "outputs": [
        {
          "output_type": "execute_result",
          "data": {
            "text/html": [
              "<div>\n",
              "<style scoped>\n",
              "    .dataframe tbody tr th:only-of-type {\n",
              "        vertical-align: middle;\n",
              "    }\n",
              "\n",
              "    .dataframe tbody tr th {\n",
              "        vertical-align: top;\n",
              "    }\n",
              "\n",
              "    .dataframe thead th {\n",
              "        text-align: right;\n",
              "    }\n",
              "</style>\n",
              "<table border=\"1\" class=\"dataframe\">\n",
              "  <thead>\n",
              "    <tr style=\"text-align: right;\">\n",
              "      <th></th>\n",
              "      <th>Glucose</th>\n",
              "      <th>BMI</th>\n",
              "      <th>Outcome</th>\n",
              "    </tr>\n",
              "  </thead>\n",
              "  <tbody>\n",
              "    <tr>\n",
              "      <th>0</th>\n",
              "      <td>148</td>\n",
              "      <td>33.6</td>\n",
              "      <td>1</td>\n",
              "    </tr>\n",
              "    <tr>\n",
              "      <th>1</th>\n",
              "      <td>85</td>\n",
              "      <td>26.6</td>\n",
              "      <td>0</td>\n",
              "    </tr>\n",
              "    <tr>\n",
              "      <th>2</th>\n",
              "      <td>183</td>\n",
              "      <td>23.3</td>\n",
              "      <td>1</td>\n",
              "    </tr>\n",
              "    <tr>\n",
              "      <th>3</th>\n",
              "      <td>89</td>\n",
              "      <td>28.1</td>\n",
              "      <td>0</td>\n",
              "    </tr>\n",
              "    <tr>\n",
              "      <th>4</th>\n",
              "      <td>137</td>\n",
              "      <td>43.1</td>\n",
              "      <td>1</td>\n",
              "    </tr>\n",
              "  </tbody>\n",
              "</table>\n",
              "</div>"
            ],
            "text/plain": [
              "   Glucose   BMI  Outcome\n",
              "0      148  33.6        1\n",
              "1       85  26.6        0\n",
              "2      183  23.3        1\n",
              "3       89  28.1        0\n",
              "4      137  43.1        1"
            ]
          },
          "metadata": {
            "tags": []
          },
          "execution_count": 4
        }
      ]
    },
    {
      "cell_type": "code",
      "metadata": {
        "colab": {
          "base_uri": "https://localhost:8080/"
        },
        "id": "VdFdPG4MuZf6",
        "outputId": "e65dab46-6e50-4c7b-8637-7af176cbe617"
      },
      "source": [
        "df.shape"
      ],
      "execution_count": null,
      "outputs": [
        {
          "output_type": "execute_result",
          "data": {
            "text/plain": [
              "(768, 3)"
            ]
          },
          "metadata": {
            "tags": []
          },
          "execution_count": 5
        }
      ]
    },
    {
      "cell_type": "code",
      "metadata": {
        "id": "Fl6o6u8auZhG"
      },
      "source": [
        "from sklearn.preprocessing import StandardScaler\n",
        "scaler=StandardScaler()  #normalizing\n",
        "input=df.iloc[:,0:2]\n",
        "scaler.fit(input)  #calculates mean and varience   \n",
        "input=scaler.transform(input) #makes the mean and var 0 and 1 respectively. (by substracting mean from all and dividing var from all)\n",
        "df.iloc[:,0:2]=input"
      ],
      "execution_count": null,
      "outputs": []
    },
    {
      "cell_type": "code",
      "metadata": {
        "colab": {
          "base_uri": "https://localhost:8080/",
          "height": 196
        },
        "id": "w4yQ8IkquZkV",
        "outputId": "59287116-35bb-4d5d-ecdf-fd4909cd82f9"
      },
      "source": [
        "df.head()"
      ],
      "execution_count": null,
      "outputs": [
        {
          "output_type": "execute_result",
          "data": {
            "text/html": [
              "<div>\n",
              "<style scoped>\n",
              "    .dataframe tbody tr th:only-of-type {\n",
              "        vertical-align: middle;\n",
              "    }\n",
              "\n",
              "    .dataframe tbody tr th {\n",
              "        vertical-align: top;\n",
              "    }\n",
              "\n",
              "    .dataframe thead th {\n",
              "        text-align: right;\n",
              "    }\n",
              "</style>\n",
              "<table border=\"1\" class=\"dataframe\">\n",
              "  <thead>\n",
              "    <tr style=\"text-align: right;\">\n",
              "      <th></th>\n",
              "      <th>Glucose</th>\n",
              "      <th>BMI</th>\n",
              "      <th>Outcome</th>\n",
              "    </tr>\n",
              "  </thead>\n",
              "  <tbody>\n",
              "    <tr>\n",
              "      <th>0</th>\n",
              "      <td>0.848324</td>\n",
              "      <td>0.204013</td>\n",
              "      <td>1</td>\n",
              "    </tr>\n",
              "    <tr>\n",
              "      <th>1</th>\n",
              "      <td>-1.123396</td>\n",
              "      <td>-0.684422</td>\n",
              "      <td>0</td>\n",
              "    </tr>\n",
              "    <tr>\n",
              "      <th>2</th>\n",
              "      <td>1.943724</td>\n",
              "      <td>-1.103255</td>\n",
              "      <td>1</td>\n",
              "    </tr>\n",
              "    <tr>\n",
              "      <th>3</th>\n",
              "      <td>-0.998208</td>\n",
              "      <td>-0.494043</td>\n",
              "      <td>0</td>\n",
              "    </tr>\n",
              "    <tr>\n",
              "      <th>4</th>\n",
              "      <td>0.504055</td>\n",
              "      <td>1.409746</td>\n",
              "      <td>1</td>\n",
              "    </tr>\n",
              "  </tbody>\n",
              "</table>\n",
              "</div>"
            ],
            "text/plain": [
              "    Glucose       BMI  Outcome\n",
              "0  0.848324  0.204013        1\n",
              "1 -1.123396 -0.684422        0\n",
              "2  1.943724 -1.103255        1\n",
              "3 -0.998208 -0.494043        0\n",
              "4  0.504055  1.409746        1"
            ]
          },
          "metadata": {
            "tags": []
          },
          "execution_count": 9
        }
      ]
    },
    {
      "cell_type": "code",
      "metadata": {
        "id": "td3eUbUfuZlF"
      },
      "source": [
        "from sklearn.model_selection import train_test_split\n",
        "train_x,test_x,train_y,test_y=train_test_split(df.iloc[:,0:2],df.Outcome,test_size=0.2,random_state=4)"
      ],
      "execution_count": null,
      "outputs": []
    },
    {
      "cell_type": "code",
      "metadata": {
        "colab": {
          "base_uri": "https://localhost:8080/"
        },
        "id": "4Ye7yZBDuZpV",
        "outputId": "bed0661d-80df-4b90-8340-f081ae263561"
      },
      "source": [
        "len(train_x)"
      ],
      "execution_count": null,
      "outputs": [
        {
          "output_type": "execute_result",
          "data": {
            "text/plain": [
              "614"
            ]
          },
          "metadata": {
            "tags": []
          },
          "execution_count": 26
        }
      ]
    },
    {
      "cell_type": "code",
      "metadata": {
        "id": "fHGwwTyEuZqM"
      },
      "source": [
        "from keras import models as mdls\n",
        "from keras import layers as lyrs  #dense=hidden layer\n",
        "model=mdls.Sequential([lyrs.Dense(1,input_shape=(2,),activation='sigmoid',kernel_initializer='ones')])\n",
        "model=mdls.Sequential([lyrs.Dense(1,activation='sigmoid',kernel_initializer='ones')])"
      ],
      "execution_count": null,
      "outputs": []
    },
    {
      "cell_type": "code",
      "metadata": {
        "id": "eHvnkLIIuZuY"
      },
      "source": [
        "model.compile(optimizer='SGD',loss='MeanSquaredError',metrics=['accuracy'])"
      ],
      "execution_count": null,
      "outputs": []
    },
    {
      "cell_type": "code",
      "metadata": {
        "colab": {
          "base_uri": "https://localhost:8080/"
        },
        "id": "vh17oJg3uZvS",
        "outputId": "2b117d11-2929-48da-fe52-2e7b2d3f8046"
      },
      "source": [
        "model.fit(train_x,train_y,epochs=50)"
      ],
      "execution_count": null,
      "outputs": [
        {
          "output_type": "stream",
          "text": [
            "Epoch 1/50\n",
            "WARNING:tensorflow:Layer dense_3 is casting an input tensor from dtype float64 to the layer's dtype of float32, which is new behavior in TensorFlow 2.  The layer has dtype float32 because its dtype defaults to floatx.\n",
            "\n",
            "If you intended to run this layer in float32, you can safely ignore this warning. If in doubt, this warning is likely only an issue if you are porting a TensorFlow 1.X model to TensorFlow 2.\n",
            "\n",
            "To change all layers to have dtype float64 by default, call `tf.keras.backend.set_floatx('float64')`. To change just this layer, pass dtype='float64' to the layer constructor. If you are the author of this layer, you can disable autocasting by passing autocast=False to the base Layer constructor.\n",
            "\n",
            "20/20 [==============================] - 0s 820us/step - loss: 0.1957 - accuracy: 0.6954\n",
            "Epoch 2/50\n",
            "20/20 [==============================] - 0s 792us/step - loss: 0.1951 - accuracy: 0.6938\n",
            "Epoch 3/50\n",
            "20/20 [==============================] - 0s 836us/step - loss: 0.1944 - accuracy: 0.6954\n",
            "Epoch 4/50\n",
            "20/20 [==============================] - 0s 890us/step - loss: 0.1938 - accuracy: 0.6954\n",
            "Epoch 5/50\n",
            "20/20 [==============================] - 0s 998us/step - loss: 0.1932 - accuracy: 0.6971\n",
            "Epoch 6/50\n",
            "20/20 [==============================] - 0s 989us/step - loss: 0.1926 - accuracy: 0.6987\n",
            "Epoch 7/50\n",
            "20/20 [==============================] - 0s 884us/step - loss: 0.1920 - accuracy: 0.7020\n",
            "Epoch 8/50\n",
            "20/20 [==============================] - 0s 994us/step - loss: 0.1914 - accuracy: 0.7036\n",
            "Epoch 9/50\n",
            "20/20 [==============================] - 0s 885us/step - loss: 0.1909 - accuracy: 0.7036\n",
            "Epoch 10/50\n",
            "20/20 [==============================] - 0s 1ms/step - loss: 0.1903 - accuracy: 0.7085\n",
            "Epoch 11/50\n",
            "20/20 [==============================] - 0s 1ms/step - loss: 0.1899 - accuracy: 0.7085\n",
            "Epoch 12/50\n",
            "20/20 [==============================] - 0s 860us/step - loss: 0.1894 - accuracy: 0.7117\n",
            "Epoch 13/50\n",
            "20/20 [==============================] - 0s 833us/step - loss: 0.1889 - accuracy: 0.7117\n",
            "Epoch 14/50\n",
            "20/20 [==============================] - 0s 928us/step - loss: 0.1884 - accuracy: 0.7150\n",
            "Epoch 15/50\n",
            "20/20 [==============================] - 0s 945us/step - loss: 0.1879 - accuracy: 0.7150\n",
            "Epoch 16/50\n",
            "20/20 [==============================] - 0s 868us/step - loss: 0.1874 - accuracy: 0.7166\n",
            "Epoch 17/50\n",
            "20/20 [==============================] - 0s 842us/step - loss: 0.1870 - accuracy: 0.7199\n",
            "Epoch 18/50\n",
            "20/20 [==============================] - 0s 1ms/step - loss: 0.1866 - accuracy: 0.7199\n",
            "Epoch 19/50\n",
            "20/20 [==============================] - 0s 827us/step - loss: 0.1861 - accuracy: 0.7215\n",
            "Epoch 20/50\n",
            "20/20 [==============================] - 0s 949us/step - loss: 0.1857 - accuracy: 0.7215\n",
            "Epoch 21/50\n",
            "20/20 [==============================] - 0s 912us/step - loss: 0.1852 - accuracy: 0.7215\n",
            "Epoch 22/50\n",
            "20/20 [==============================] - 0s 905us/step - loss: 0.1849 - accuracy: 0.7215\n",
            "Epoch 23/50\n",
            "20/20 [==============================] - 0s 945us/step - loss: 0.1845 - accuracy: 0.7215\n",
            "Epoch 24/50\n",
            "20/20 [==============================] - 0s 964us/step - loss: 0.1841 - accuracy: 0.7215\n",
            "Epoch 25/50\n",
            "20/20 [==============================] - 0s 832us/step - loss: 0.1837 - accuracy: 0.7215\n",
            "Epoch 26/50\n",
            "20/20 [==============================] - 0s 844us/step - loss: 0.1833 - accuracy: 0.7215\n",
            "Epoch 27/50\n",
            "20/20 [==============================] - 0s 960us/step - loss: 0.1830 - accuracy: 0.7231\n",
            "Epoch 28/50\n",
            "20/20 [==============================] - 0s 997us/step - loss: 0.1827 - accuracy: 0.7231\n",
            "Epoch 29/50\n",
            "20/20 [==============================] - 0s 926us/step - loss: 0.1824 - accuracy: 0.7215\n",
            "Epoch 30/50\n",
            "20/20 [==============================] - 0s 1ms/step - loss: 0.1821 - accuracy: 0.7182\n",
            "Epoch 31/50\n",
            "20/20 [==============================] - 0s 984us/step - loss: 0.1818 - accuracy: 0.7182\n",
            "Epoch 32/50\n",
            "20/20 [==============================] - 0s 1ms/step - loss: 0.1814 - accuracy: 0.7182\n",
            "Epoch 33/50\n",
            "20/20 [==============================] - 0s 931us/step - loss: 0.1811 - accuracy: 0.7199\n",
            "Epoch 34/50\n",
            "20/20 [==============================] - 0s 1ms/step - loss: 0.1808 - accuracy: 0.7199\n",
            "Epoch 35/50\n",
            "20/20 [==============================] - 0s 911us/step - loss: 0.1805 - accuracy: 0.7199\n",
            "Epoch 36/50\n",
            "20/20 [==============================] - 0s 1ms/step - loss: 0.1803 - accuracy: 0.7199\n",
            "Epoch 37/50\n",
            "20/20 [==============================] - 0s 923us/step - loss: 0.1800 - accuracy: 0.7182\n",
            "Epoch 38/50\n",
            "20/20 [==============================] - 0s 1ms/step - loss: 0.1798 - accuracy: 0.7182\n",
            "Epoch 39/50\n",
            "20/20 [==============================] - 0s 957us/step - loss: 0.1796 - accuracy: 0.7199\n",
            "Epoch 40/50\n",
            "20/20 [==============================] - 0s 962us/step - loss: 0.1793 - accuracy: 0.7231\n",
            "Epoch 41/50\n",
            "20/20 [==============================] - 0s 869us/step - loss: 0.1791 - accuracy: 0.7280\n",
            "Epoch 42/50\n",
            "20/20 [==============================] - 0s 974us/step - loss: 0.1789 - accuracy: 0.7296\n",
            "Epoch 43/50\n",
            "20/20 [==============================] - 0s 840us/step - loss: 0.1787 - accuracy: 0.7280\n",
            "Epoch 44/50\n",
            "20/20 [==============================] - 0s 995us/step - loss: 0.1785 - accuracy: 0.7280\n",
            "Epoch 45/50\n",
            "20/20 [==============================] - 0s 885us/step - loss: 0.1783 - accuracy: 0.7296\n",
            "Epoch 46/50\n",
            "20/20 [==============================] - 0s 931us/step - loss: 0.1780 - accuracy: 0.7296\n",
            "Epoch 47/50\n",
            "20/20 [==============================] - 0s 948us/step - loss: 0.1778 - accuracy: 0.7296\n",
            "Epoch 48/50\n",
            "20/20 [==============================] - 0s 965us/step - loss: 0.1776 - accuracy: 0.7296\n",
            "Epoch 49/50\n",
            "20/20 [==============================] - 0s 902us/step - loss: 0.1774 - accuracy: 0.7280\n",
            "Epoch 50/50\n",
            "20/20 [==============================] - 0s 931us/step - loss: 0.1773 - accuracy: 0.7280\n"
          ],
          "name": "stdout"
        },
        {
          "output_type": "execute_result",
          "data": {
            "text/plain": [
              "<tensorflow.python.keras.callbacks.History at 0x7ff213b81828>"
            ]
          },
          "metadata": {
            "tags": []
          },
          "execution_count": 29
        }
      ]
    },
    {
      "cell_type": "code",
      "metadata": {
        "colab": {
          "base_uri": "https://localhost:8080/"
        },
        "id": "PWAcTKciuZzj",
        "outputId": "f16348c6-bdc2-4a5c-be0f-b77c9e1aa99a"
      },
      "source": [
        "yhat=model.predict(test_x)\n",
        "test_y=test_y.astype('float32')\n",
        "yhat=np.insert(yhat,-1,test_y,axis=1)\n",
        "print(yhat)"
      ],
      "execution_count": null,
      "outputs": [
        {
          "output_type": "stream",
          "text": [
            "[[0.         0.25416422]\n",
            " [0.         0.08384022]\n",
            " [0.         0.23052582]\n",
            " [0.         0.7251424 ]\n",
            " [1.         0.60774577]\n",
            " [1.         0.7299088 ]\n",
            " [1.         0.7983    ]\n",
            " [1.         0.14070484]\n",
            " [1.         0.83708835]\n",
            " [0.         0.14565644]\n",
            " [0.         0.59031713]\n",
            " [0.         0.17935756]\n",
            " [1.         0.3252619 ]\n",
            " [0.         0.14672089]\n",
            " [0.         0.19291991]\n",
            " [1.         0.6598995 ]\n",
            " [1.         0.878739  ]\n",
            " [1.         0.9650514 ]\n",
            " [0.         0.06685445]\n",
            " [0.         0.13098037]\n",
            " [0.         0.21166772]\n",
            " [0.         0.7232051 ]\n",
            " [0.         0.17233562]\n",
            " [1.         0.92754436]\n",
            " [1.         0.18671277]\n",
            " [0.         0.72844267]\n",
            " [0.         0.16197944]\n",
            " [1.         0.5110638 ]\n",
            " [1.         0.47260094]\n",
            " [1.         0.24858844]\n",
            " [1.         0.84692645]\n",
            " [0.         0.12535352]\n",
            " [0.         0.3894683 ]\n",
            " [0.         0.0793992 ]\n",
            " [0.         0.8282176 ]\n",
            " [0.         0.24728525]\n",
            " [0.         0.63780814]\n",
            " [0.         0.5782632 ]\n",
            " [0.         0.08463478]\n",
            " [1.         0.7573236 ]\n",
            " [1.         0.63780814]\n",
            " [0.         0.52059346]\n",
            " [0.         0.32098317]\n",
            " [1.         0.8999209 ]\n",
            " [0.         0.2428245 ]\n",
            " [0.         0.10930872]\n",
            " [0.         0.28467578]\n",
            " [1.         0.90297776]\n",
            " [0.         0.34807903]\n",
            " [0.         0.13224164]\n",
            " [1.         0.70668095]\n",
            " [0.         0.62095267]\n",
            " [0.         0.18363982]\n",
            " [0.         0.7009157 ]\n",
            " [1.         0.5335137 ]\n",
            " [0.         0.09908983]\n",
            " [0.         0.15779296]\n",
            " [0.         0.09644389]\n",
            " [0.         0.13245285]\n",
            " [1.         0.79645765]\n",
            " [0.         0.26074255]\n",
            " [0.         0.07909903]\n",
            " [1.         0.5571739 ]\n",
            " [0.         0.02528203]\n",
            " [0.         0.4042843 ]\n",
            " [0.         0.14524496]\n",
            " [0.         0.0953595 ]\n",
            " [0.         0.5175463 ]\n",
            " [0.         0.47454357]\n",
            " [1.         0.9098295 ]\n",
            " [0.         0.19170958]\n",
            " [1.         0.5455351 ]\n",
            " [0.         0.29020318]\n",
            " [0.         0.10823244]\n",
            " [0.         0.2071884 ]\n",
            " [1.         0.8844559 ]\n",
            " [0.         0.42430067]\n",
            " [1.         0.37436813]\n",
            " [0.         0.2102482 ]\n",
            " [0.         0.7944497 ]\n",
            " [1.         0.82941794]\n",
            " [0.         0.46118104]\n",
            " [0.         0.22344366]\n",
            " [1.         0.97059524]\n",
            " [0.         0.66692626]\n",
            " [0.         0.08912545]\n",
            " [0.         0.07781276]\n",
            " [1.         0.80662185]\n",
            " [0.         0.50218666]\n",
            " [1.         0.32452098]\n",
            " [0.         0.6149446 ]\n",
            " [0.         0.13724744]\n",
            " [0.         0.3511054 ]\n",
            " [0.         0.24694303]\n",
            " [0.         0.08701712]\n",
            " [0.         0.40712237]\n",
            " [0.         0.2990501 ]\n",
            " [1.         0.84143263]\n",
            " [1.         0.7451383 ]\n",
            " [0.         0.44685706]\n",
            " [0.         0.2715845 ]\n",
            " [0.         0.6473166 ]\n",
            " [1.         0.32550412]\n",
            " [1.         0.4427526 ]\n",
            " [1.         0.9028811 ]\n",
            " [0.         0.49922708]\n",
            " [0.         0.12567648]\n",
            " [1.         0.81160605]\n",
            " [1.         0.5376478 ]\n",
            " [0.         0.46000972]\n",
            " [0.         0.8497832 ]\n",
            " [1.         0.8800725 ]\n",
            " [1.         0.74802995]\n",
            " [0.         0.10912976]\n",
            " [0.         0.23661998]\n",
            " [0.         0.21975198]\n",
            " [0.         0.4487096 ]\n",
            " [0.         0.68259317]\n",
            " [1.         0.6089567 ]\n",
            " [1.         0.6717594 ]\n",
            " [0.         0.42591885]\n",
            " [0.         0.16680732]\n",
            " [0.         0.4712259 ]\n",
            " [0.         0.18044296]\n",
            " [0.         0.5040427 ]\n",
            " [0.         0.27342096]\n",
            " [0.         0.27231282]\n",
            " [0.         0.09827188]\n",
            " [0.         0.27993947]\n",
            " [1.         0.92395663]\n",
            " [1.         0.54491335]\n",
            " [0.         0.10329589]\n",
            " [1.         0.2729097 ]\n",
            " [0.         0.28451222]\n",
            " [1.         0.6767027 ]\n",
            " [0.         0.12150386]\n",
            " [0.         0.4049046 ]\n",
            " [0.         0.24515632]\n",
            " [1.         0.68346924]\n",
            " [0.         0.9300585 ]\n",
            " [0.         0.17556953]\n",
            " [0.         0.11348602]\n",
            " [0.         0.16022125]\n",
            " [0.         0.51782185]\n",
            " [1.         0.8074343 ]\n",
            " [1.         0.74913764]\n",
            " [1.         0.9413061 ]\n",
            " [0.         0.528625  ]\n",
            " [0.         0.34428662]\n",
            " [0.         0.5227214 ]\n",
            " [0.         0.08247861]\n",
            " [0.         0.5103284 ]\n",
            " [1.         0.67378396]\n",
            " [1.         0.7539149 ]]\n"
          ],
          "name": "stdout"
        }
      ]
    },
    {
      "cell_type": "markdown",
      "metadata": {
        "id": "CKgfTkpN9URt"
      },
      "source": [
        "Conclusion: <br>\n",
        "Keras is used to train the artificial neural network with 2 input neurons, 1 hidden layer neuron and 1 output neuron with epoch of 50, the accuracy increases from 68 percent to 72 percent. This is because stochastic gradient decnt algorythm is used as back propagation algo."
      ]
    }
  ]
}