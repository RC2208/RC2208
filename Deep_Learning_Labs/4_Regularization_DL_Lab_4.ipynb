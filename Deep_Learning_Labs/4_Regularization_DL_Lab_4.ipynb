{
  "nbformat": 4,
  "nbformat_minor": 0,
  "metadata": {
    "colab": {
      "name": "4.Regularization_DL Lab-4",
      "provenance": []
    },
    "kernelspec": {
      "name": "python3",
      "display_name": "Python 3"
    }
  },
  "cells": [
    {
      "cell_type": "markdown",
      "metadata": {
        "id": "MkTfozGdGKci"
      },
      "source": [
        "Ritika Chand <br>\n"
      ]
    },
    {
      "cell_type": "code",
      "metadata": {
        "id": "wrZh7Ad3yctW"
      },
      "source": [
        "#reugalization"
      ],
      "execution_count": null,
      "outputs": []
    },
    {
      "cell_type": "code",
      "metadata": {
        "id": "yziaWuUZycx3"
      },
      "source": [
        "from keras.datasets import imdb"
      ],
      "execution_count": null,
      "outputs": []
    },
    {
      "cell_type": "code",
      "metadata": {
        "colab": {
          "base_uri": "https://localhost:8080/"
        },
        "id": "WleZAAVSycyz",
        "outputId": "a602dfff-7aca-4be9-a7e3-64677a014b09"
      },
      "source": [
        "(train_x,train_y),(test_x,test_y)=imdb.load_data(num_words=10000) #max occuring words(keywords) 10000 it will take. 50-50 train-test"
      ],
      "execution_count": null,
      "outputs": [
        {
          "output_type": "stream",
          "text": [
            "<string>:6: VisibleDeprecationWarning: Creating an ndarray from ragged nested sequences (which is a list-or-tuple of lists-or-tuples-or ndarrays with different lengths or shapes) is deprecated. If you meant to do this, you must specify 'dtype=object' when creating the ndarray\n",
            "/usr/local/lib/python3.6/dist-packages/tensorflow/python/keras/datasets/imdb.py:159: VisibleDeprecationWarning: Creating an ndarray from ragged nested sequences (which is a list-or-tuple of lists-or-tuples-or ndarrays with different lengths or shapes) is deprecated. If you meant to do this, you must specify 'dtype=object' when creating the ndarray\n",
            "  x_train, y_train = np.array(xs[:idx]), np.array(labels[:idx])\n",
            "/usr/local/lib/python3.6/dist-packages/tensorflow/python/keras/datasets/imdb.py:160: VisibleDeprecationWarning: Creating an ndarray from ragged nested sequences (which is a list-or-tuple of lists-or-tuples-or ndarrays with different lengths or shapes) is deprecated. If you meant to do this, you must specify 'dtype=object' when creating the ndarray\n",
            "  x_test, y_test = np.array(xs[idx:]), np.array(labels[idx:])\n"
          ],
          "name": "stderr"
        }
      ]
    },
    {
      "cell_type": "code",
      "metadata": {
        "colab": {
          "base_uri": "https://localhost:8080/"
        },
        "id": "7NJG2TQ4yc2s",
        "outputId": "d8db6720-7a1f-4d5c-a1bf-4c84a5a5593d"
      },
      "source": [
        "len(train_x[10])"
      ],
      "execution_count": null,
      "outputs": [
        {
          "output_type": "execute_result",
          "data": {
            "text/plain": [
              "450"
            ]
          },
          "metadata": {
            "tags": []
          },
          "execution_count": 80
        }
      ]
    },
    {
      "cell_type": "code",
      "metadata": {
        "colab": {
          "base_uri": "https://localhost:8080/"
        },
        "id": "JxR26ZuHyc3q",
        "outputId": "70a96c29-56a1-41e8-dc85-a1b938a5c532"
      },
      "source": [
        "train_x[10] #indexing of keyword"
      ],
      "execution_count": null,
      "outputs": [
        {
          "output_type": "execute_result",
          "data": {
            "text/plain": [
              "[1,\n",
              " 785,\n",
              " 189,\n",
              " 438,\n",
              " 47,\n",
              " 110,\n",
              " 142,\n",
              " 7,\n",
              " 6,\n",
              " 7475,\n",
              " 120,\n",
              " 4,\n",
              " 236,\n",
              " 378,\n",
              " 7,\n",
              " 153,\n",
              " 19,\n",
              " 87,\n",
              " 108,\n",
              " 141,\n",
              " 17,\n",
              " 1004,\n",
              " 5,\n",
              " 2,\n",
              " 883,\n",
              " 2,\n",
              " 23,\n",
              " 8,\n",
              " 4,\n",
              " 136,\n",
              " 2,\n",
              " 2,\n",
              " 4,\n",
              " 7475,\n",
              " 43,\n",
              " 1076,\n",
              " 21,\n",
              " 1407,\n",
              " 419,\n",
              " 5,\n",
              " 5202,\n",
              " 120,\n",
              " 91,\n",
              " 682,\n",
              " 189,\n",
              " 2818,\n",
              " 5,\n",
              " 9,\n",
              " 1348,\n",
              " 31,\n",
              " 7,\n",
              " 4,\n",
              " 118,\n",
              " 785,\n",
              " 189,\n",
              " 108,\n",
              " 126,\n",
              " 93,\n",
              " 2,\n",
              " 16,\n",
              " 540,\n",
              " 324,\n",
              " 23,\n",
              " 6,\n",
              " 364,\n",
              " 352,\n",
              " 21,\n",
              " 14,\n",
              " 9,\n",
              " 93,\n",
              " 56,\n",
              " 18,\n",
              " 11,\n",
              " 230,\n",
              " 53,\n",
              " 771,\n",
              " 74,\n",
              " 31,\n",
              " 34,\n",
              " 4,\n",
              " 2834,\n",
              " 7,\n",
              " 4,\n",
              " 22,\n",
              " 5,\n",
              " 14,\n",
              " 11,\n",
              " 471,\n",
              " 9,\n",
              " 2,\n",
              " 34,\n",
              " 4,\n",
              " 321,\n",
              " 487,\n",
              " 5,\n",
              " 116,\n",
              " 15,\n",
              " 6584,\n",
              " 4,\n",
              " 22,\n",
              " 9,\n",
              " 6,\n",
              " 2286,\n",
              " 4,\n",
              " 114,\n",
              " 2679,\n",
              " 23,\n",
              " 107,\n",
              " 293,\n",
              " 1008,\n",
              " 1172,\n",
              " 5,\n",
              " 328,\n",
              " 1236,\n",
              " 4,\n",
              " 1375,\n",
              " 109,\n",
              " 9,\n",
              " 6,\n",
              " 132,\n",
              " 773,\n",
              " 2,\n",
              " 1412,\n",
              " 8,\n",
              " 1172,\n",
              " 18,\n",
              " 7865,\n",
              " 29,\n",
              " 9,\n",
              " 276,\n",
              " 11,\n",
              " 6,\n",
              " 2768,\n",
              " 19,\n",
              " 289,\n",
              " 409,\n",
              " 4,\n",
              " 5341,\n",
              " 2140,\n",
              " 2,\n",
              " 648,\n",
              " 1430,\n",
              " 2,\n",
              " 8914,\n",
              " 5,\n",
              " 27,\n",
              " 3000,\n",
              " 1432,\n",
              " 7130,\n",
              " 103,\n",
              " 6,\n",
              " 346,\n",
              " 137,\n",
              " 11,\n",
              " 4,\n",
              " 2768,\n",
              " 295,\n",
              " 36,\n",
              " 7740,\n",
              " 725,\n",
              " 6,\n",
              " 3208,\n",
              " 273,\n",
              " 11,\n",
              " 4,\n",
              " 1513,\n",
              " 15,\n",
              " 1367,\n",
              " 35,\n",
              " 154,\n",
              " 2,\n",
              " 103,\n",
              " 2,\n",
              " 173,\n",
              " 7,\n",
              " 12,\n",
              " 36,\n",
              " 515,\n",
              " 3547,\n",
              " 94,\n",
              " 2547,\n",
              " 1722,\n",
              " 5,\n",
              " 3547,\n",
              " 36,\n",
              " 203,\n",
              " 30,\n",
              " 502,\n",
              " 8,\n",
              " 361,\n",
              " 12,\n",
              " 8,\n",
              " 989,\n",
              " 143,\n",
              " 4,\n",
              " 1172,\n",
              " 3404,\n",
              " 10,\n",
              " 10,\n",
              " 328,\n",
              " 1236,\n",
              " 9,\n",
              " 6,\n",
              " 55,\n",
              " 221,\n",
              " 2989,\n",
              " 5,\n",
              " 146,\n",
              " 165,\n",
              " 179,\n",
              " 770,\n",
              " 15,\n",
              " 50,\n",
              " 713,\n",
              " 53,\n",
              " 108,\n",
              " 448,\n",
              " 23,\n",
              " 12,\n",
              " 17,\n",
              " 225,\n",
              " 38,\n",
              " 76,\n",
              " 4397,\n",
              " 18,\n",
              " 183,\n",
              " 8,\n",
              " 81,\n",
              " 19,\n",
              " 12,\n",
              " 45,\n",
              " 1257,\n",
              " 8,\n",
              " 135,\n",
              " 15,\n",
              " 2,\n",
              " 166,\n",
              " 4,\n",
              " 118,\n",
              " 7,\n",
              " 45,\n",
              " 2,\n",
              " 17,\n",
              " 466,\n",
              " 45,\n",
              " 2,\n",
              " 4,\n",
              " 22,\n",
              " 115,\n",
              " 165,\n",
              " 764,\n",
              " 6075,\n",
              " 5,\n",
              " 1030,\n",
              " 8,\n",
              " 2973,\n",
              " 73,\n",
              " 469,\n",
              " 167,\n",
              " 2127,\n",
              " 2,\n",
              " 1568,\n",
              " 6,\n",
              " 87,\n",
              " 841,\n",
              " 18,\n",
              " 4,\n",
              " 22,\n",
              " 4,\n",
              " 192,\n",
              " 15,\n",
              " 91,\n",
              " 7,\n",
              " 12,\n",
              " 304,\n",
              " 273,\n",
              " 1004,\n",
              " 4,\n",
              " 1375,\n",
              " 1172,\n",
              " 2768,\n",
              " 2,\n",
              " 15,\n",
              " 4,\n",
              " 22,\n",
              " 764,\n",
              " 55,\n",
              " 5773,\n",
              " 5,\n",
              " 14,\n",
              " 4233,\n",
              " 7444,\n",
              " 4,\n",
              " 1375,\n",
              " 326,\n",
              " 7,\n",
              " 4,\n",
              " 4760,\n",
              " 1786,\n",
              " 8,\n",
              " 361,\n",
              " 1236,\n",
              " 8,\n",
              " 989,\n",
              " 46,\n",
              " 7,\n",
              " 4,\n",
              " 2768,\n",
              " 45,\n",
              " 55,\n",
              " 776,\n",
              " 8,\n",
              " 79,\n",
              " 496,\n",
              " 98,\n",
              " 45,\n",
              " 400,\n",
              " 301,\n",
              " 15,\n",
              " 4,\n",
              " 1859,\n",
              " 9,\n",
              " 4,\n",
              " 155,\n",
              " 15,\n",
              " 66,\n",
              " 2,\n",
              " 84,\n",
              " 5,\n",
              " 14,\n",
              " 22,\n",
              " 1534,\n",
              " 15,\n",
              " 17,\n",
              " 4,\n",
              " 167,\n",
              " 2,\n",
              " 15,\n",
              " 75,\n",
              " 70,\n",
              " 115,\n",
              " 66,\n",
              " 30,\n",
              " 252,\n",
              " 7,\n",
              " 618,\n",
              " 51,\n",
              " 9,\n",
              " 2161,\n",
              " 4,\n",
              " 3130,\n",
              " 5,\n",
              " 14,\n",
              " 1525,\n",
              " 8,\n",
              " 6584,\n",
              " 15,\n",
              " 2,\n",
              " 165,\n",
              " 127,\n",
              " 1921,\n",
              " 8,\n",
              " 30,\n",
              " 179,\n",
              " 2532,\n",
              " 4,\n",
              " 22,\n",
              " 9,\n",
              " 906,\n",
              " 18,\n",
              " 6,\n",
              " 176,\n",
              " 7,\n",
              " 1007,\n",
              " 1005,\n",
              " 4,\n",
              " 1375,\n",
              " 114,\n",
              " 4,\n",
              " 105,\n",
              " 26,\n",
              " 32,\n",
              " 55,\n",
              " 221,\n",
              " 11,\n",
              " 68,\n",
              " 205,\n",
              " 96,\n",
              " 5,\n",
              " 4,\n",
              " 192,\n",
              " 15,\n",
              " 4,\n",
              " 274,\n",
              " 410,\n",
              " 220,\n",
              " 304,\n",
              " 23,\n",
              " 94,\n",
              " 205,\n",
              " 109,\n",
              " 9,\n",
              " 55,\n",
              " 73,\n",
              " 224,\n",
              " 259,\n",
              " 3786,\n",
              " 15,\n",
              " 4,\n",
              " 22,\n",
              " 528,\n",
              " 1645,\n",
              " 34,\n",
              " 4,\n",
              " 130,\n",
              " 528,\n",
              " 30,\n",
              " 685,\n",
              " 345,\n",
              " 17,\n",
              " 4,\n",
              " 277,\n",
              " 199,\n",
              " 166,\n",
              " 281,\n",
              " 5,\n",
              " 1030,\n",
              " 8,\n",
              " 30,\n",
              " 179,\n",
              " 4442,\n",
              " 444,\n",
              " 2,\n",
              " 9,\n",
              " 6,\n",
              " 371,\n",
              " 87,\n",
              " 189,\n",
              " 22,\n",
              " 5,\n",
              " 31,\n",
              " 7,\n",
              " 4,\n",
              " 118,\n",
              " 7,\n",
              " 4,\n",
              " 2068,\n",
              " 545,\n",
              " 1178,\n",
              " 829]"
            ]
          },
          "metadata": {
            "tags": []
          },
          "execution_count": 81
        }
      ]
    },
    {
      "cell_type": "code",
      "metadata": {
        "colab": {
          "base_uri": "https://localhost:8080/"
        },
        "id": "BeDoCG4tyc7p",
        "outputId": "29488e38-dc39-4d4e-916f-d4029a1972ab"
      },
      "source": [
        "train_y[10] #this person recommended the movie (0 or 1)"
      ],
      "execution_count": null,
      "outputs": [
        {
          "output_type": "execute_result",
          "data": {
            "text/plain": [
              "1"
            ]
          },
          "metadata": {
            "tags": []
          },
          "execution_count": 82
        }
      ]
    },
    {
      "cell_type": "code",
      "metadata": {
        "colab": {
          "base_uri": "https://localhost:8080/"
        },
        "id": "RUhPJef741Sc",
        "outputId": "40873b1c-8712-4aa3-f142-0a3e98adf53a"
      },
      "source": [
        "len(train_x) #no. of training samples"
      ],
      "execution_count": null,
      "outputs": [
        {
          "output_type": "execute_result",
          "data": {
            "text/plain": [
              "25000"
            ]
          },
          "metadata": {
            "tags": []
          },
          "execution_count": 83
        }
      ]
    },
    {
      "cell_type": "code",
      "metadata": {
        "colab": {
          "base_uri": "https://localhost:8080/"
        },
        "id": "X_fYvekh4_oU",
        "outputId": "4eeeb253-a531-4126-9ce4-b3de8606bf11"
      },
      "source": [
        "len(test_x) #sequence=train_x size"
      ],
      "execution_count": null,
      "outputs": [
        {
          "output_type": "execute_result",
          "data": {
            "text/plain": [
              "25000"
            ]
          },
          "metadata": {
            "tags": []
          },
          "execution_count": 84
        }
      ]
    },
    {
      "cell_type": "code",
      "metadata": {
        "id": "MUVtrY2Ryc8s"
      },
      "source": [
        "import numpy as np      #unstructured data to matrix\n",
        "def mat_sec(sequence,dimension=10000): #25000 rows and 10000 columns\n",
        "  mat=np.zeros((len(sequence),dimension))\n",
        "  for i,s in enumerate(sequence): #attaches indexes in the train sets and makes it 1\n",
        "    mat[i,s]=1\n",
        "  return mat\n",
        "\n"
      ],
      "execution_count": null,
      "outputs": []
    },
    {
      "cell_type": "code",
      "metadata": {
        "id": "hnqKatQhydBT"
      },
      "source": [
        "x_training=mat_sec(train_x)\n",
        "x_testing=mat_sec(test_x)"
      ],
      "execution_count": null,
      "outputs": []
    },
    {
      "cell_type": "code",
      "metadata": {
        "colab": {
          "base_uri": "https://localhost:8080/"
        },
        "id": "pkws6F_6ydCJ",
        "outputId": "3df9a6a6-f01b-4273-81d7-0bcfe0b2259a"
      },
      "source": [
        "x_training.shape\n",
        "x_testing.shape"
      ],
      "execution_count": null,
      "outputs": [
        {
          "output_type": "execute_result",
          "data": {
            "text/plain": [
              "(25000, 10000)"
            ]
          },
          "metadata": {
            "tags": []
          },
          "execution_count": 87
        }
      ]
    },
    {
      "cell_type": "code",
      "metadata": {
        "colab": {
          "base_uri": "https://localhost:8080/"
        },
        "id": "wYyrA4hR88Yw",
        "outputId": "57251a9a-3534-4476-880c-2b860cebf17e"
      },
      "source": [
        "train_y[0]"
      ],
      "execution_count": null,
      "outputs": [
        {
          "output_type": "execute_result",
          "data": {
            "text/plain": [
              "1"
            ]
          },
          "metadata": {
            "tags": []
          },
          "execution_count": 88
        }
      ]
    },
    {
      "cell_type": "code",
      "metadata": {
        "id": "5s1kjkKF88Z-"
      },
      "source": [
        "y_training=np.asarray(train_y).astype('float32') #convert to float\n",
        "y_testing=np.asarray(test_y).astype('float32')"
      ],
      "execution_count": null,
      "outputs": []
    },
    {
      "cell_type": "code",
      "metadata": {
        "colab": {
          "base_uri": "https://localhost:8080/"
        },
        "id": "UgCZmahY88dq",
        "outputId": "8c4f846a-00ee-4a46-ae26-a62623201251"
      },
      "source": [
        "y_training[0]"
      ],
      "execution_count": null,
      "outputs": [
        {
          "output_type": "execute_result",
          "data": {
            "text/plain": [
              "1.0"
            ]
          },
          "metadata": {
            "tags": []
          },
          "execution_count": 90
        }
      ]
    },
    {
      "cell_type": "code",
      "metadata": {
        "id": "eczHiHh888em"
      },
      "source": [
        "from keras import models\n",
        "from keras import layers"
      ],
      "execution_count": null,
      "outputs": []
    },
    {
      "cell_type": "code",
      "metadata": {
        "id": "K9-9R2tm88ji"
      },
      "source": [
        "model=models.Sequential()\n",
        "model.add(layers.Dense(16,activation='relu',input_shape=(10000,))) #16 neurons in hidden layers\n",
        "model.add(layers.Dense(16,activation='relu'))\n",
        "model.add(layers.Dense(1,activation='sigmoid')) #output 0 or 1"
      ],
      "execution_count": null,
      "outputs": []
    },
    {
      "cell_type": "code",
      "metadata": {
        "id": "dvKWnmBm88rO"
      },
      "source": [
        "from keras import optimizers\n",
        "from keras import losses \n",
        "from keras import metrics"
      ],
      "execution_count": null,
      "outputs": []
    },
    {
      "cell_type": "code",
      "metadata": {
        "id": "66goBi6588r_"
      },
      "source": [
        "x_val=x_training[:10000]   #1st 10,000 rows \n",
        "new_x_training=x_training[10000:]   #from 10,000th row till the last row extract it\n",
        "y_val=y_training[:10000]\n",
        "new_y_training=y_training[10000:]"
      ],
      "execution_count": null,
      "outputs": []
    },
    {
      "cell_type": "code",
      "metadata": {
        "colab": {
          "base_uri": "https://localhost:8080/"
        },
        "id": "ydm_AIwE88wv",
        "outputId": "1ed90f3d-7e99-4f1e-c3af-c98aa9031d84"
      },
      "source": [
        "model.compile(optimizer='rmsprop',loss='binary_crossentropy',metrics=['acc']) #accuracy\n",
        "history=model.fit(new_x_training,new_y_training,epochs=20,batch_size=512,validation_data=(x_val,y_val))"
      ],
      "execution_count": null,
      "outputs": [
        {
          "output_type": "stream",
          "text": [
            "Epoch 1/20\n",
            "30/30 [==============================] - 2s 48ms/step - loss: 0.5856 - acc: 0.7162 - val_loss: 0.3875 - val_acc: 0.8752\n",
            "Epoch 2/20\n",
            "30/30 [==============================] - 1s 33ms/step - loss: 0.3277 - acc: 0.9006 - val_loss: 0.3093 - val_acc: 0.8846\n",
            "Epoch 3/20\n",
            "30/30 [==============================] - 1s 34ms/step - loss: 0.2270 - acc: 0.9329 - val_loss: 0.3008 - val_acc: 0.8797\n",
            "Epoch 4/20\n",
            "30/30 [==============================] - 1s 34ms/step - loss: 0.1817 - acc: 0.9437 - val_loss: 0.3189 - val_acc: 0.8705\n",
            "Epoch 5/20\n",
            "30/30 [==============================] - 1s 34ms/step - loss: 0.1435 - acc: 0.9587 - val_loss: 0.2791 - val_acc: 0.8903\n",
            "Epoch 6/20\n",
            "30/30 [==============================] - 1s 33ms/step - loss: 0.1191 - acc: 0.9657 - val_loss: 0.2905 - val_acc: 0.8876\n",
            "Epoch 7/20\n",
            "30/30 [==============================] - 1s 34ms/step - loss: 0.0982 - acc: 0.9732 - val_loss: 0.3090 - val_acc: 0.8854\n",
            "Epoch 8/20\n",
            "30/30 [==============================] - 1s 33ms/step - loss: 0.0771 - acc: 0.9804 - val_loss: 0.3298 - val_acc: 0.8796\n",
            "Epoch 9/20\n",
            "30/30 [==============================] - 1s 33ms/step - loss: 0.0632 - acc: 0.9829 - val_loss: 0.3530 - val_acc: 0.8787\n",
            "Epoch 10/20\n",
            "30/30 [==============================] - 1s 33ms/step - loss: 0.0506 - acc: 0.9879 - val_loss: 0.3836 - val_acc: 0.8740\n",
            "Epoch 11/20\n",
            "30/30 [==============================] - 1s 34ms/step - loss: 0.0426 - acc: 0.9907 - val_loss: 0.4028 - val_acc: 0.8743\n",
            "Epoch 12/20\n",
            "30/30 [==============================] - 1s 34ms/step - loss: 0.0363 - acc: 0.9928 - val_loss: 0.4255 - val_acc: 0.8743\n",
            "Epoch 13/20\n",
            "30/30 [==============================] - 1s 34ms/step - loss: 0.0269 - acc: 0.9958 - val_loss: 0.4533 - val_acc: 0.8743\n",
            "Epoch 14/20\n",
            "30/30 [==============================] - 1s 33ms/step - loss: 0.0259 - acc: 0.9944 - val_loss: 0.4849 - val_acc: 0.8718\n",
            "Epoch 15/20\n",
            "30/30 [==============================] - 1s 34ms/step - loss: 0.0179 - acc: 0.9977 - val_loss: 0.5206 - val_acc: 0.8702\n",
            "Epoch 16/20\n",
            "30/30 [==============================] - 1s 33ms/step - loss: 0.0142 - acc: 0.9984 - val_loss: 0.5521 - val_acc: 0.8709\n",
            "Epoch 17/20\n",
            "30/30 [==============================] - 1s 33ms/step - loss: 0.0109 - acc: 0.9987 - val_loss: 0.5841 - val_acc: 0.8691\n",
            "Epoch 18/20\n",
            "30/30 [==============================] - 1s 34ms/step - loss: 0.0079 - acc: 0.9992 - val_loss: 0.6162 - val_acc: 0.8695\n",
            "Epoch 19/20\n",
            "30/30 [==============================] - 1s 33ms/step - loss: 0.0062 - acc: 0.9997 - val_loss: 0.6436 - val_acc: 0.8679\n",
            "Epoch 20/20\n",
            "30/30 [==============================] - 1s 32ms/step - loss: 0.0064 - acc: 0.9993 - val_loss: 0.6863 - val_acc: 0.8665\n"
          ],
          "name": "stdout"
        }
      ]
    },
    {
      "cell_type": "code",
      "metadata": {
        "id": "h7_tgOrzydF_"
      },
      "source": [
        "hist_dict=history.history   #retains all prev values"
      ],
      "execution_count": null,
      "outputs": []
    },
    {
      "cell_type": "code",
      "metadata": {
        "id": "nmrrF0nQydGy"
      },
      "source": [
        "import matplotlib.pyplot as plt\n",
        "hist_dict=history.history\n",
        "train_loss=hist_dict['loss']\n",
        "val_loss_value=hist_dict['val_loss']\n",
        "train_acc=hist_dict['acc']\n",
        "val_acc_value=hist_dict['val_acc']\n",
        "iteration=range(1,len(train_acc)+1)"
      ],
      "execution_count": null,
      "outputs": []
    },
    {
      "cell_type": "code",
      "metadata": {
        "id": "zQaXGdnScyYA",
        "colab": {
          "base_uri": "https://localhost:8080/",
          "height": 312
        },
        "outputId": "056ae18d-c515-4ee7-b8fb-9604b29e7fb2"
      },
      "source": [
        "plt.plot(iteration,train_loss,'bo',label='Training Loss')\n",
        "plt.plot(iteration,val_loss_value,'b',label='Validation Loss')\n",
        "plt.title('Training and validation Loss')\n",
        "plt.xlabel('Epochs')\n",
        "plt.ylabel('Loss')\n",
        "plt.legend()"
      ],
      "execution_count": null,
      "outputs": [
        {
          "output_type": "execute_result",
          "data": {
            "text/plain": [
              "<matplotlib.legend.Legend at 0x7f314ad1c438>"
            ]
          },
          "metadata": {
            "tags": []
          },
          "execution_count": 98
        },
        {
          "output_type": "display_data",
          "data": {
            "image/png": "[encoded data removed]",
            "text/plain": [
              "<Figure size 432x288 with 1 Axes>"
            ]
          },
          "metadata": {
            "tags": [],
            "needs_background": "light"
          }
        }
      ]
    },
    {
      "cell_type": "code",
      "metadata": {
        "id": "43wA7o3ucycl",
        "colab": {
          "base_uri": "https://localhost:8080/",
          "height": 312
        },
        "outputId": "433648ae-6f98-4d0f-cb9a-f9bf4f9b1933"
      },
      "source": [
        "plt.clf()\n",
        "train_loss=hist_dict['acc']\n",
        "val_acc_value=hist_dict['val_acc']\n",
        "\n",
        "plt.plot(iteration,train_acc,'bo',label='Training Accuracy')\n",
        "plt.plot(iteration,val_acc_value,'b',label='Validation Accuracy')\n",
        "plt.title('Training and validation Loss')\n",
        "plt.xlabel('Epochs')\n",
        "plt.ylabel('Accracy')\n",
        "plt.legend()"
      ],
      "execution_count": null,
      "outputs": [
        {
          "output_type": "execute_result",
          "data": {
            "text/plain": [
              "<matplotlib.legend.Legend at 0x7f31462c6ef0>"
            ]
          },
          "metadata": {
            "tags": []
          },
          "execution_count": 99
        },
        {
          "output_type": "display_data",
          "data": {
            "image/png": "[encoded data removed]",
            "text/plain": [
              "<Figure size 432x288 with 1 Axes>"
            ]
          },
          "metadata": {
            "tags": [],
            "needs_background": "light"
          }
        }
      ]
    },
    {
      "cell_type": "markdown",
      "metadata": {
        "id": "O5Rg9KJYKsMH"
      },
      "source": [
        "Looking at the graph of acc, as you increase no.of epochs, the training acc improves.<br>\n",
        "\n",
        "Conclusion: For the given imdb data set samples for training are split into 2 to make space for validation samples. It is observed that training accuracy improves with each epoch, however there is no appriciable improvement in validation accuracy.<br>\n",
        "\n",
        "--> Training loss reduces with each epoch, however, validation loss increases with each epoch.<br>\n",
        "Thus it can be concluded that the model is overfit and it can be reduced by reducing the complexity of architecture or by applying regularization."
      ]
    },
    {
      "cell_type": "code",
      "metadata": {
        "id": "OEvp5psQKaeV"
      },
      "source": [
        "from keras import regularizers"
      ],
      "execution_count": null,
      "outputs": []
    },
    {
      "cell_type": "code",
      "metadata": {
        "id": "rWbRR07jHCoD"
      },
      "source": [
        "model_1=models.Sequential()\n",
        "model_1.add(layers.Dense(16,activation='relu',kernel_regularizer=regularizers.l2(0.001), input_shape=(10000,))) #16 neurons in hidden layers\n",
        "model_1.add(layers.Dense(16,activation='relu'))\n",
        "model_1.add(layers.Dense(1,activation='sigmoid')) "
      ],
      "execution_count": null,
      "outputs": []
    },
    {
      "cell_type": "code",
      "metadata": {
        "colab": {
          "base_uri": "https://localhost:8080/"
        },
        "id": "dZq7xQSdHCp0",
        "outputId": "f24dbabe-4c7b-44e3-f78c-3a3b709e5678"
      },
      "source": [
        "model_1.compile(optimizer='rmsprop',loss='binary_crossentropy',metrics=['acc'])\n",
        "history=model_1.fit(new_x_training,new_y_training,epochs=20,batch_size=512,validation_data=(x_val,y_val))\n"
      ],
      "execution_count": null,
      "outputs": [
        {
          "output_type": "stream",
          "text": [
            "Epoch 1/20\n",
            "30/30 [==============================] - 2s 44ms/step - loss: 0.1819 - acc: 0.9480 - val_loss: 0.4485 - val_acc: 0.8677\n",
            "Epoch 2/20\n",
            "30/30 [==============================] - 1s 34ms/step - loss: 0.1245 - acc: 0.9729 - val_loss: 0.4316 - val_acc: 0.8712\n",
            "Epoch 3/20\n",
            "30/30 [==============================] - 1s 34ms/step - loss: 0.1163 - acc: 0.9786 - val_loss: 0.4380 - val_acc: 0.8698\n",
            "Epoch 4/20\n",
            "30/30 [==============================] - 1s 34ms/step - loss: 0.1154 - acc: 0.9794 - val_loss: 0.4752 - val_acc: 0.8580\n",
            "Epoch 5/20\n",
            "30/30 [==============================] - 1s 35ms/step - loss: 0.1158 - acc: 0.9790 - val_loss: 0.4518 - val_acc: 0.8670\n",
            "Epoch 6/20\n",
            "30/30 [==============================] - 1s 34ms/step - loss: 0.1076 - acc: 0.9836 - val_loss: 0.4713 - val_acc: 0.8635\n",
            "Epoch 7/20\n",
            "30/30 [==============================] - 1s 34ms/step - loss: 0.1105 - acc: 0.9812 - val_loss: 0.4747 - val_acc: 0.8665\n",
            "Epoch 8/20\n",
            "30/30 [==============================] - 1s 35ms/step - loss: 0.1081 - acc: 0.9817 - val_loss: 0.4678 - val_acc: 0.8690\n",
            "Epoch 9/20\n",
            "30/30 [==============================] - 1s 33ms/step - loss: 0.1033 - acc: 0.9840 - val_loss: 0.4806 - val_acc: 0.8667\n",
            "Epoch 10/20\n",
            "30/30 [==============================] - 1s 34ms/step - loss: 0.1026 - acc: 0.9836 - val_loss: 0.5189 - val_acc: 0.8539\n",
            "Epoch 11/20\n",
            "30/30 [==============================] - 1s 33ms/step - loss: 0.0959 - acc: 0.9864 - val_loss: 0.4866 - val_acc: 0.8677\n",
            "Epoch 12/20\n",
            "30/30 [==============================] - 1s 34ms/step - loss: 0.0941 - acc: 0.9877 - val_loss: 0.5365 - val_acc: 0.8600\n",
            "Epoch 13/20\n",
            "30/30 [==============================] - 1s 33ms/step - loss: 0.0938 - acc: 0.9874 - val_loss: 0.5095 - val_acc: 0.8637\n",
            "Epoch 14/20\n",
            "30/30 [==============================] - 1s 33ms/step - loss: 0.1034 - acc: 0.9812 - val_loss: 0.5113 - val_acc: 0.8667\n",
            "Epoch 15/20\n",
            "30/30 [==============================] - 1s 33ms/step - loss: 0.0846 - acc: 0.9916 - val_loss: 0.5006 - val_acc: 0.8675\n",
            "Epoch 16/20\n",
            "30/30 [==============================] - 1s 34ms/step - loss: 0.0863 - acc: 0.9913 - val_loss: 0.5090 - val_acc: 0.8617\n",
            "Epoch 17/20\n",
            "30/30 [==============================] - 1s 33ms/step - loss: 0.0809 - acc: 0.9915 - val_loss: 0.5100 - val_acc: 0.8667\n",
            "Epoch 18/20\n",
            "30/30 [==============================] - 1s 35ms/step - loss: 0.0930 - acc: 0.9874 - val_loss: 0.5139 - val_acc: 0.8660\n",
            "Epoch 19/20\n",
            "30/30 [==============================] - 1s 33ms/step - loss: 0.0881 - acc: 0.9881 - val_loss: 0.5354 - val_acc: 0.8575\n",
            "Epoch 20/20\n",
            "30/30 [==============================] - 1s 32ms/step - loss: 0.0915 - acc: 0.9855 - val_loss: 0.5623 - val_acc: 0.8622\n"
          ],
          "name": "stdout"
        }
      ]
    },
    {
      "cell_type": "code",
      "metadata": {
        "colab": {
          "base_uri": "https://localhost:8080/",
          "height": 312
        },
        "id": "RHpNHR11HCtC",
        "outputId": "cf3c05f4-4dfb-4238-bc5d-c30ffca68d42"
      },
      "source": [
        "import matplotlib.pyplot as plt\n",
        "train_loss=hist_dict['loss']\n",
        "hist_dict=history.history \n",
        "val_loss_value=hist_dict['val_loss']\n",
        "train_acc=hist_dict['acc']\n",
        "val_acc_value=hist_dict['val_acc']\n",
        "iteration=range(1,len(train_acc)+1)\n",
        "\n",
        "\n",
        "plt.plot(iteration,train_loss,'bo',label='Training Loss')\n",
        "plt.plot(iteration,val_loss_value,'b',label='Validation Loss')\n",
        "plt.title('Training and validation Loss')\n",
        "plt.xlabel('Epochs')\n",
        "plt.ylabel('Loss')\n",
        "plt.legend()"
      ],
      "execution_count": null,
      "outputs": [
        {
          "output_type": "execute_result",
          "data": {
            "text/plain": [
              "<matplotlib.legend.Legend at 0x7f314d51d828>"
            ]
          },
          "metadata": {
            "tags": []
          },
          "execution_count": 113
        },
        {
          "output_type": "display_data",
          "data": {
            "image/png": "[encoded data removed]",
            "text/plain": [
              "<Figure size 432x288 with 1 Axes>"
            ]
          },
          "metadata": {
            "tags": [],
            "needs_background": "light"
          }
        }
      ]
    },
    {
      "cell_type": "code",
      "metadata": {
        "colab": {
          "base_uri": "https://localhost:8080/",
          "height": 312
        },
        "id": "Os69XCkgHCvH",
        "outputId": "3e179e31-81ba-4805-d795-1e85938d4cf8"
      },
      "source": [
        "plt.clf()\n",
        "train_loss=hist_dict['acc']\n",
        "val_acc_value=hist_dict['val_acc']\n",
        "hist_dict=history.history \n",
        "\n",
        "plt.plot(iteration,train_acc,'bo',label='Training Accuracy')\n",
        "plt.plot(iteration,val_acc_value,'b',label='Validation Accuracy')\n",
        "plt.title('Training and validation Loss')\n",
        "plt.xlabel('Epochs')\n",
        "plt.ylabel('Accracy')\n",
        "plt.legend()"
      ],
      "execution_count": null,
      "outputs": [
        {
          "output_type": "execute_result",
          "data": {
            "text/plain": [
              "<matplotlib.legend.Legend at 0x7f314cc20898>"
            ]
          },
          "metadata": {
            "tags": []
          },
          "execution_count": 114
        },
        {
          "output_type": "display_data",
          "data": {
            "image/png": "[encoded data removed]",
            "text/plain": [
              "<Figure size 432x288 with 1 Axes>"
            ]
          },
          "metadata": {
            "tags": [],
            "needs_background": "light"
          }
        }
      ]
    },
    {
      "cell_type": "markdown",
      "metadata": {
        "id": "qtB_Mq4gGSml"
      },
      "source": [
        "# **Conclusion**"
      ]
    },
    {
      "cell_type": "markdown",
      "metadata": {
        "id": "iz0wzSfxMp04"
      },
      "source": [
        "With each epoch, training loss reduces but validation loss increases, This shows that the model is overfit. To avoid overfitting, regularization parameter of l2 norm is used & results show that training loss reduces with each epoch & validation loss does not increase with each epoch, it gets stabilized within a small the range for the given dataset, validation loss varies with 0.3 and 0.5 with regularization and 0.3 & 0.7 without regularization."
      ]
    }
  ]
}