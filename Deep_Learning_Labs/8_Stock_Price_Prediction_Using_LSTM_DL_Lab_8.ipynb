{
  "nbformat": 4,
  "nbformat_minor": 0,
  "metadata": {
    "colab": {
      "name": "8.Stock_Price_Prediction_Using_LSTM_DL Lab-8 ",
      "provenance": [],
      "collapsed_sections": []
    },
    "kernelspec": {
      "name": "python3",
      "display_name": "Python 3"
    },
    "language_info": {
      "name": "python"
    }
  },
  "cells": [
    {
      "cell_type": "markdown",
      "metadata": {
        "id": "hozIGiAWq-uv"
      },
      "source": [
        "<h1><b><center>Experiment 8</center></b></h1>\n",
        "<h4>\n",
        "Name : Ritika Chand<br>\n",
        "</h4>"
      ]
    },
    {
      "cell_type": "code",
      "metadata": {
        "id": "Z-mol0RzM2oV"
      },
      "source": [
        "import numpy as np\n",
        "import matplotlib.pyplot as plt\n",
        "import pandas as pd"
      ],
      "execution_count": null,
      "outputs": []
    },
    {
      "cell_type": "code",
      "metadata": {
        "colab": {
          "base_uri": "https://localhost:8080/",
          "height": 402
        },
        "id": "3ffeGV8GM-lA",
        "outputId": "996f6f36-42e7-4b2c-8830-40013f06cf8a"
      },
      "source": [
        "train = pd.read_csv('NSE-TATAGLOBAL.csv') # reading file\n",
        "train\n",
        "# Here 2035 rows = 2035 days\n",
        "# open, high, low, last, close, turnover are stock price"
      ],
      "execution_count": null,
      "outputs": [
        {
          "output_type": "execute_result",
          "data": {
            "text/html": [
              "<div>\n",
              "<style scoped>\n",
              "    .dataframe tbody tr th:only-of-type {\n",
              "        vertical-align: middle;\n",
              "    }\n",
              "\n",
              "    .dataframe tbody tr th {\n",
              "        vertical-align: top;\n",
              "    }\n",
              "\n",
              "    .dataframe thead th {\n",
              "        text-align: right;\n",
              "    }\n",
              "</style>\n",
              "<table border=\"1\" class=\"dataframe\">\n",
              "  <thead>\n",
              "    <tr style=\"text-align: right;\">\n",
              "      <th></th>\n",
              "      <th>Date</th>\n",
              "      <th>Open</th>\n",
              "      <th>High</th>\n",
              "      <th>Low</th>\n",
              "      <th>Last</th>\n",
              "      <th>Close</th>\n",
              "      <th>Total Trade Quantity</th>\n",
              "      <th>Turnover (Lacs)</th>\n",
              "    </tr>\n",
              "  </thead>\n",
              "  <tbody>\n",
              "    <tr>\n",
              "      <th>0</th>\n",
              "      <td>2018-09-28</td>\n",
              "      <td>234.05</td>\n",
              "      <td>235.95</td>\n",
              "      <td>230.20</td>\n",
              "      <td>233.50</td>\n",
              "      <td>233.75</td>\n",
              "      <td>3069914</td>\n",
              "      <td>7162.35</td>\n",
              "    </tr>\n",
              "    <tr>\n",
              "      <th>1</th>\n",
              "      <td>2018-09-27</td>\n",
              "      <td>234.55</td>\n",
              "      <td>236.80</td>\n",
              "      <td>231.10</td>\n",
              "      <td>233.80</td>\n",
              "      <td>233.25</td>\n",
              "      <td>5082859</td>\n",
              "      <td>11859.95</td>\n",
              "    </tr>\n",
              "    <tr>\n",
              "      <th>2</th>\n",
              "      <td>2018-09-26</td>\n",
              "      <td>240.00</td>\n",
              "      <td>240.00</td>\n",
              "      <td>232.50</td>\n",
              "      <td>235.00</td>\n",
              "      <td>234.25</td>\n",
              "      <td>2240909</td>\n",
              "      <td>5248.60</td>\n",
              "    </tr>\n",
              "    <tr>\n",
              "      <th>3</th>\n",
              "      <td>2018-09-25</td>\n",
              "      <td>233.30</td>\n",
              "      <td>236.75</td>\n",
              "      <td>232.00</td>\n",
              "      <td>236.25</td>\n",
              "      <td>236.10</td>\n",
              "      <td>2349368</td>\n",
              "      <td>5503.90</td>\n",
              "    </tr>\n",
              "    <tr>\n",
              "      <th>4</th>\n",
              "      <td>2018-09-24</td>\n",
              "      <td>233.55</td>\n",
              "      <td>239.20</td>\n",
              "      <td>230.75</td>\n",
              "      <td>234.00</td>\n",
              "      <td>233.30</td>\n",
              "      <td>3423509</td>\n",
              "      <td>7999.55</td>\n",
              "    </tr>\n",
              "    <tr>\n",
              "      <th>...</th>\n",
              "      <td>...</td>\n",
              "      <td>...</td>\n",
              "      <td>...</td>\n",
              "      <td>...</td>\n",
              "      <td>...</td>\n",
              "      <td>...</td>\n",
              "      <td>...</td>\n",
              "      <td>...</td>\n",
              "    </tr>\n",
              "    <tr>\n",
              "      <th>2030</th>\n",
              "      <td>2010-07-27</td>\n",
              "      <td>117.60</td>\n",
              "      <td>119.50</td>\n",
              "      <td>112.00</td>\n",
              "      <td>118.80</td>\n",
              "      <td>118.65</td>\n",
              "      <td>586100</td>\n",
              "      <td>694.98</td>\n",
              "    </tr>\n",
              "    <tr>\n",
              "      <th>2031</th>\n",
              "      <td>2010-07-26</td>\n",
              "      <td>120.10</td>\n",
              "      <td>121.00</td>\n",
              "      <td>117.10</td>\n",
              "      <td>117.10</td>\n",
              "      <td>117.60</td>\n",
              "      <td>658440</td>\n",
              "      <td>780.01</td>\n",
              "    </tr>\n",
              "    <tr>\n",
              "      <th>2032</th>\n",
              "      <td>2010-07-23</td>\n",
              "      <td>121.80</td>\n",
              "      <td>121.95</td>\n",
              "      <td>120.25</td>\n",
              "      <td>120.35</td>\n",
              "      <td>120.65</td>\n",
              "      <td>281312</td>\n",
              "      <td>340.31</td>\n",
              "    </tr>\n",
              "    <tr>\n",
              "      <th>2033</th>\n",
              "      <td>2010-07-22</td>\n",
              "      <td>120.30</td>\n",
              "      <td>122.00</td>\n",
              "      <td>120.25</td>\n",
              "      <td>120.75</td>\n",
              "      <td>120.90</td>\n",
              "      <td>293312</td>\n",
              "      <td>355.17</td>\n",
              "    </tr>\n",
              "    <tr>\n",
              "      <th>2034</th>\n",
              "      <td>2010-07-21</td>\n",
              "      <td>122.10</td>\n",
              "      <td>123.00</td>\n",
              "      <td>121.05</td>\n",
              "      <td>121.10</td>\n",
              "      <td>121.55</td>\n",
              "      <td>658666</td>\n",
              "      <td>803.56</td>\n",
              "    </tr>\n",
              "  </tbody>\n",
              "</table>\n",
              "<p>2035 rows × 8 columns</p>\n",
              "</div>"
            ],
            "text/plain": [
              "            Date    Open    High  ...   Close  Total Trade Quantity  Turnover (Lacs)\n",
              "0     2018-09-28  234.05  235.95  ...  233.75               3069914          7162.35\n",
              "1     2018-09-27  234.55  236.80  ...  233.25               5082859         11859.95\n",
              "2     2018-09-26  240.00  240.00  ...  234.25               2240909          5248.60\n",
              "3     2018-09-25  233.30  236.75  ...  236.10               2349368          5503.90\n",
              "4     2018-09-24  233.55  239.20  ...  233.30               3423509          7999.55\n",
              "...          ...     ...     ...  ...     ...                   ...              ...\n",
              "2030  2010-07-27  117.60  119.50  ...  118.65                586100           694.98\n",
              "2031  2010-07-26  120.10  121.00  ...  117.60                658440           780.01\n",
              "2032  2010-07-23  121.80  121.95  ...  120.65                281312           340.31\n",
              "2033  2010-07-22  120.30  122.00  ...  120.90                293312           355.17\n",
              "2034  2010-07-21  122.10  123.00  ...  121.55                658666           803.56\n",
              "\n",
              "[2035 rows x 8 columns]"
            ]
          },
          "metadata": {
            "tags": []
          },
          "execution_count": 2
        }
      ]
    },
    {
      "cell_type": "code",
      "metadata": {
        "colab": {
          "base_uri": "https://localhost:8080/",
          "height": 195
        },
        "id": "CiVuXQSTNP5P",
        "outputId": "700af896-bc78-4014-ff40-68c0a9880ecf"
      },
      "source": [
        "train_set = train.iloc[:, 1:2]     # opening stock price\n",
        "train_set.head()"
      ],
      "execution_count": null,
      "outputs": [
        {
          "output_type": "execute_result",
          "data": {
            "text/html": [
              "<div>\n",
              "<style scoped>\n",
              "    .dataframe tbody tr th:only-of-type {\n",
              "        vertical-align: middle;\n",
              "    }\n",
              "\n",
              "    .dataframe tbody tr th {\n",
              "        vertical-align: top;\n",
              "    }\n",
              "\n",
              "    .dataframe thead th {\n",
              "        text-align: right;\n",
              "    }\n",
              "</style>\n",
              "<table border=\"1\" class=\"dataframe\">\n",
              "  <thead>\n",
              "    <tr style=\"text-align: right;\">\n",
              "      <th></th>\n",
              "      <th>Open</th>\n",
              "    </tr>\n",
              "  </thead>\n",
              "  <tbody>\n",
              "    <tr>\n",
              "      <th>0</th>\n",
              "      <td>234.05</td>\n",
              "    </tr>\n",
              "    <tr>\n",
              "      <th>1</th>\n",
              "      <td>234.55</td>\n",
              "    </tr>\n",
              "    <tr>\n",
              "      <th>2</th>\n",
              "      <td>240.00</td>\n",
              "    </tr>\n",
              "    <tr>\n",
              "      <th>3</th>\n",
              "      <td>233.30</td>\n",
              "    </tr>\n",
              "    <tr>\n",
              "      <th>4</th>\n",
              "      <td>233.55</td>\n",
              "    </tr>\n",
              "  </tbody>\n",
              "</table>\n",
              "</div>"
            ],
            "text/plain": [
              "     Open\n",
              "0  234.05\n",
              "1  234.55\n",
              "2  240.00\n",
              "3  233.30\n",
              "4  233.55"
            ]
          },
          "metadata": {
            "tags": []
          },
          "execution_count": 3
        }
      ]
    },
    {
      "cell_type": "code",
      "metadata": {
        "id": "ApI2Kf2uOVI2"
      },
      "source": [
        "train_set = train_set.values   # convert to numpy array"
      ],
      "execution_count": null,
      "outputs": []
    },
    {
      "cell_type": "code",
      "metadata": {
        "id": "QL4PrlPaOpsO"
      },
      "source": [
        "# pre-processing dataset \n",
        "from sklearn.preprocessing import MinMaxScaler       # Scaling each value to a given range\n",
        "scale = MinMaxScaler(feature_range = (0, 1))         # scaling to fit btw 0 and 1\n",
        "train_set_scaled = scale.fit_transform(train_set)"
      ],
      "execution_count": null,
      "outputs": []
    },
    {
      "cell_type": "code",
      "metadata": {
        "colab": {
          "base_uri": "https://localhost:8080/"
        },
        "id": "bgRmJNK8PouH",
        "outputId": "ff187a37-a19c-4295-cb6e-fa8e383ad306"
      },
      "source": [
        "train_set_scaled.shape"
      ],
      "execution_count": null,
      "outputs": [
        {
          "output_type": "execute_result",
          "data": {
            "text/plain": [
              "(2035, 1)"
            ]
          },
          "metadata": {
            "tags": []
          },
          "execution_count": 6
        }
      ]
    },
    {
      "cell_type": "code",
      "metadata": {
        "id": "EMdXCZBaPtTa"
      },
      "source": [
        "x_train = []\n",
        "y_train = []\n",
        "for i in range(60, 2035):\n",
        "  x_train.append(train_set_scaled[i-60:i, 0])   #  60 days in sequence (1-60 days)\n",
        "  y_train.append(train_set_scaled[i, 0])        # After 60 days (60-2035), predictiong\n",
        "x_train = np.array(x_train)\n",
        "y_train = np.array(y_train)"
      ],
      "execution_count": null,
      "outputs": []
    },
    {
      "cell_type": "code",
      "metadata": {
        "colab": {
          "base_uri": "https://localhost:8080/"
        },
        "id": "Hbg-bcc4S4v9",
        "outputId": "cf2f2807-8dc0-4f33-cb52-2a845fd5550c"
      },
      "source": [
        "x_train.shape"
      ],
      "execution_count": null,
      "outputs": [
        {
          "output_type": "execute_result",
          "data": {
            "text/plain": [
              "(1975, 60)"
            ]
          },
          "metadata": {
            "tags": []
          },
          "execution_count": 8
        }
      ]
    },
    {
      "cell_type": "code",
      "metadata": {
        "colab": {
          "base_uri": "https://localhost:8080/"
        },
        "id": "xOLMjoAvS6Y3",
        "outputId": "8131425d-9507-49e4-81a0-450830d4e594"
      },
      "source": [
        "y_train.shape"
      ],
      "execution_count": null,
      "outputs": [
        {
          "output_type": "execute_result",
          "data": {
            "text/plain": [
              "(1975,)"
            ]
          },
          "metadata": {
            "tags": []
          },
          "execution_count": 9
        }
      ]
    },
    {
      "cell_type": "code",
      "metadata": {
        "colab": {
          "base_uri": "https://localhost:8080/"
        },
        "id": "_U821zE8TUV0",
        "outputId": "d3f70119-90a8-451c-d374-ee525284f0e5"
      },
      "source": [
        "# Has 1 plane thus reshaping so that LSTM accepts\n",
        "x_train = np.reshape(x_train, (x_train.shape[0], x_train.shape[1], 1)) # add 3rd dimention to x_train\n",
        "x_train.shape"
      ],
      "execution_count": null,
      "outputs": [
        {
          "output_type": "execute_result",
          "data": {
            "text/plain": [
              "(1975, 60, 1)"
            ]
          },
          "metadata": {
            "tags": []
          },
          "execution_count": 10
        }
      ]
    },
    {
      "cell_type": "code",
      "metadata": {
        "id": "k1OQ5j0NUA9o"
      },
      "source": [
        "# Model creation:\n",
        "from keras.models import Sequential\n",
        "from keras.layers import Dense\n",
        "from keras.layers import LSTM\n",
        "from keras.layers import Dropout        # Dropout layer randomly sets input units to 0,prevents overfitting"
      ],
      "execution_count": null,
      "outputs": []
    },
    {
      "cell_type": "code",
      "metadata": {
        "id": "vxNcodTnUoeS"
      },
      "source": [
        "model = Sequential()\n",
        "# Hidden layer - 1 and Input layer\n",
        "model.add(LSTM(units = 50, return_sequences = True, input_shape = (x_train.shape[1], 1)))\n",
        "# units= no. of neurons in layer\n",
        "# return_sequences = if we need the output of the layer to use for other layer\n",
        "# input-shape secifies the input layer nurons\n",
        "model.add(Dropout(0.2))     # dropout of 0.2\n",
        "# HL- 2\n",
        "model.add(LSTM(units = 50, return_sequences = True))\n",
        "model.add(Dropout(0.2))\n",
        "# HL- 3\n",
        "model.add(LSTM(units = 50, return_sequences = True))\n",
        "model.add(Dropout(0.3))\n",
        "# HL - 4\n",
        "model.add(LSTM(units = 50))\n",
        "model.add(Dropout(0.1))\n",
        "# output layer\n",
        "model.add(Dense(units = 1))     # regression result so only 1 nuron so that we know the stock price"
      ],
      "execution_count": null,
      "outputs": []
    },
    {
      "cell_type": "code",
      "metadata": {
        "id": "2Ke4IjspXRw8"
      },
      "source": [
        "model.compile(optimizer = 'adam', loss = 'mean_squared_error')      # since regerssion type result we use loss as msr"
      ],
      "execution_count": null,
      "outputs": []
    },
    {
      "cell_type": "code",
      "metadata": {
        "colab": {
          "base_uri": "https://localhost:8080/"
        },
        "id": "o2mlRGZMYZkI",
        "outputId": "a7ffc244-22a4-42f2-ba18-f06121c50f23"
      },
      "source": [
        "# fitting the data into model\n",
        "model.fit(x_train, y_train, epochs = 20, batch_size = 32)"
      ],
      "execution_count": null,
      "outputs": [
        {
          "output_type": "stream",
          "text": [
            "Epoch 1/20\n",
            "62/62 [==============================] - 14s 114ms/step - loss: 0.0248\n",
            "Epoch 2/20\n",
            "62/62 [==============================] - 7s 114ms/step - loss: 0.0026\n",
            "Epoch 3/20\n",
            "62/62 [==============================] - 7s 115ms/step - loss: 0.0026\n",
            "Epoch 4/20\n",
            "62/62 [==============================] - 7s 117ms/step - loss: 0.0020\n",
            "Epoch 5/20\n",
            "62/62 [==============================] - 7s 117ms/step - loss: 0.0020\n",
            "Epoch 6/20\n",
            "62/62 [==============================] - 7s 117ms/step - loss: 0.0021\n",
            "Epoch 7/20\n",
            "62/62 [==============================] - 7s 118ms/step - loss: 0.0022\n",
            "Epoch 8/20\n",
            "62/62 [==============================] - 7s 118ms/step - loss: 0.0022\n",
            "Epoch 9/20\n",
            "62/62 [==============================] - 7s 118ms/step - loss: 0.0015\n",
            "Epoch 10/20\n",
            "62/62 [==============================] - 7s 118ms/step - loss: 0.0020\n",
            "Epoch 11/20\n",
            "62/62 [==============================] - 7s 119ms/step - loss: 0.0015\n",
            "Epoch 12/20\n",
            "62/62 [==============================] - 7s 121ms/step - loss: 0.0017\n",
            "Epoch 13/20\n",
            "62/62 [==============================] - 7s 118ms/step - loss: 0.0015\n",
            "Epoch 14/20\n",
            "62/62 [==============================] - 7s 119ms/step - loss: 0.0017\n",
            "Epoch 15/20\n",
            "62/62 [==============================] - 7s 120ms/step - loss: 0.0013\n",
            "Epoch 16/20\n",
            "62/62 [==============================] - 7s 120ms/step - loss: 0.0013\n",
            "Epoch 17/20\n",
            "62/62 [==============================] - 7s 119ms/step - loss: 0.0014\n",
            "Epoch 18/20\n",
            "62/62 [==============================] - 8s 121ms/step - loss: 0.0013\n",
            "Epoch 19/20\n",
            "62/62 [==============================] - 7s 119ms/step - loss: 0.0014\n",
            "Epoch 20/20\n",
            "62/62 [==============================] - 7s 120ms/step - loss: 0.0013\n"
          ],
          "name": "stdout"
        },
        {
          "output_type": "execute_result",
          "data": {
            "text/plain": [
              "<tensorflow.python.keras.callbacks.History at 0x7f3e09ea3210>"
            ]
          },
          "metadata": {
            "tags": []
          },
          "execution_count": 14
        }
      ]
    },
    {
      "cell_type": "code",
      "metadata": {
        "colab": {
          "base_uri": "https://localhost:8080/",
          "height": 521
        },
        "id": "X0iAzQ1JYqIZ",
        "outputId": "62b70a8c-71ed-4d69-9ad6-4e21bcbfc335"
      },
      "source": [
        "dataset_test = pd.read_csv('tatatest.csv')\n",
        "dataset_test"
      ],
      "execution_count": null,
      "outputs": [
        {
          "output_type": "execute_result",
          "data": {
            "text/html": [
              "<div>\n",
              "<style scoped>\n",
              "    .dataframe tbody tr th:only-of-type {\n",
              "        vertical-align: middle;\n",
              "    }\n",
              "\n",
              "    .dataframe tbody tr th {\n",
              "        vertical-align: top;\n",
              "    }\n",
              "\n",
              "    .dataframe thead th {\n",
              "        text-align: right;\n",
              "    }\n",
              "</style>\n",
              "<table border=\"1\" class=\"dataframe\">\n",
              "  <thead>\n",
              "    <tr style=\"text-align: right;\">\n",
              "      <th></th>\n",
              "      <th>Date</th>\n",
              "      <th>Open</th>\n",
              "      <th>High</th>\n",
              "      <th>Low</th>\n",
              "      <th>Last</th>\n",
              "      <th>Close</th>\n",
              "      <th>Total Trade Quantity</th>\n",
              "      <th>Turnover (Lacs)</th>\n",
              "    </tr>\n",
              "  </thead>\n",
              "  <tbody>\n",
              "    <tr>\n",
              "      <th>0</th>\n",
              "      <td>2018-10-24</td>\n",
              "      <td>220.10</td>\n",
              "      <td>221.25</td>\n",
              "      <td>217.05</td>\n",
              "      <td>219.55</td>\n",
              "      <td>219.80</td>\n",
              "      <td>2171956</td>\n",
              "      <td>4771.34</td>\n",
              "    </tr>\n",
              "    <tr>\n",
              "      <th>1</th>\n",
              "      <td>2018-10-23</td>\n",
              "      <td>221.10</td>\n",
              "      <td>222.20</td>\n",
              "      <td>214.75</td>\n",
              "      <td>219.55</td>\n",
              "      <td>218.30</td>\n",
              "      <td>1416279</td>\n",
              "      <td>3092.15</td>\n",
              "    </tr>\n",
              "    <tr>\n",
              "      <th>2</th>\n",
              "      <td>2018-10-22</td>\n",
              "      <td>229.45</td>\n",
              "      <td>231.60</td>\n",
              "      <td>222.00</td>\n",
              "      <td>223.05</td>\n",
              "      <td>223.25</td>\n",
              "      <td>3529711</td>\n",
              "      <td>8028.37</td>\n",
              "    </tr>\n",
              "    <tr>\n",
              "      <th>3</th>\n",
              "      <td>2018-10-19</td>\n",
              "      <td>230.30</td>\n",
              "      <td>232.70</td>\n",
              "      <td>225.50</td>\n",
              "      <td>227.75</td>\n",
              "      <td>227.20</td>\n",
              "      <td>1527904</td>\n",
              "      <td>3490.78</td>\n",
              "    </tr>\n",
              "    <tr>\n",
              "      <th>4</th>\n",
              "      <td>2018-10-17</td>\n",
              "      <td>237.70</td>\n",
              "      <td>240.80</td>\n",
              "      <td>229.45</td>\n",
              "      <td>231.30</td>\n",
              "      <td>231.10</td>\n",
              "      <td>2945914</td>\n",
              "      <td>6961.65</td>\n",
              "    </tr>\n",
              "    <tr>\n",
              "      <th>5</th>\n",
              "      <td>2018-10-16</td>\n",
              "      <td>237.10</td>\n",
              "      <td>237.70</td>\n",
              "      <td>233.05</td>\n",
              "      <td>234.40</td>\n",
              "      <td>235.45</td>\n",
              "      <td>1723113</td>\n",
              "      <td>4052.25</td>\n",
              "    </tr>\n",
              "    <tr>\n",
              "      <th>6</th>\n",
              "      <td>2018-10-15</td>\n",
              "      <td>229.70</td>\n",
              "      <td>237.00</td>\n",
              "      <td>226.80</td>\n",
              "      <td>234.80</td>\n",
              "      <td>234.90</td>\n",
              "      <td>1224339</td>\n",
              "      <td>2845.68</td>\n",
              "    </tr>\n",
              "    <tr>\n",
              "      <th>7</th>\n",
              "      <td>2018-10-12</td>\n",
              "      <td>226.25</td>\n",
              "      <td>232.35</td>\n",
              "      <td>225.50</td>\n",
              "      <td>228.70</td>\n",
              "      <td>229.10</td>\n",
              "      <td>1165527</td>\n",
              "      <td>2675.91</td>\n",
              "    </tr>\n",
              "    <tr>\n",
              "      <th>8</th>\n",
              "      <td>2018-10-11</td>\n",
              "      <td>215.00</td>\n",
              "      <td>229.70</td>\n",
              "      <td>215.00</td>\n",
              "      <td>225.60</td>\n",
              "      <td>224.60</td>\n",
              "      <td>1293881</td>\n",
              "      <td>2890.85</td>\n",
              "    </tr>\n",
              "    <tr>\n",
              "      <th>9</th>\n",
              "      <td>2018-10-10</td>\n",
              "      <td>215.00</td>\n",
              "      <td>229.65</td>\n",
              "      <td>215.00</td>\n",
              "      <td>228.25</td>\n",
              "      <td>228.40</td>\n",
              "      <td>2919278</td>\n",
              "      <td>6557.95</td>\n",
              "    </tr>\n",
              "    <tr>\n",
              "      <th>10</th>\n",
              "      <td>2018-10-09</td>\n",
              "      <td>215.50</td>\n",
              "      <td>219.15</td>\n",
              "      <td>209.60</td>\n",
              "      <td>215.00</td>\n",
              "      <td>216.50</td>\n",
              "      <td>1844462</td>\n",
              "      <td>3940.70</td>\n",
              "    </tr>\n",
              "    <tr>\n",
              "      <th>11</th>\n",
              "      <td>2018-10-08</td>\n",
              "      <td>208.00</td>\n",
              "      <td>222.25</td>\n",
              "      <td>206.85</td>\n",
              "      <td>216.00</td>\n",
              "      <td>215.15</td>\n",
              "      <td>4642146</td>\n",
              "      <td>10062.83</td>\n",
              "    </tr>\n",
              "    <tr>\n",
              "      <th>12</th>\n",
              "      <td>2018-10-05</td>\n",
              "      <td>217.00</td>\n",
              "      <td>218.60</td>\n",
              "      <td>205.90</td>\n",
              "      <td>210.25</td>\n",
              "      <td>209.20</td>\n",
              "      <td>3519515</td>\n",
              "      <td>7407.06</td>\n",
              "    </tr>\n",
              "    <tr>\n",
              "      <th>13</th>\n",
              "      <td>2018-10-04</td>\n",
              "      <td>223.50</td>\n",
              "      <td>227.80</td>\n",
              "      <td>216.15</td>\n",
              "      <td>217.25</td>\n",
              "      <td>218.20</td>\n",
              "      <td>1728786</td>\n",
              "      <td>3815.79</td>\n",
              "    </tr>\n",
              "    <tr>\n",
              "      <th>14</th>\n",
              "      <td>2018-10-03</td>\n",
              "      <td>230.00</td>\n",
              "      <td>237.50</td>\n",
              "      <td>225.75</td>\n",
              "      <td>226.45</td>\n",
              "      <td>227.60</td>\n",
              "      <td>1708590</td>\n",
              "      <td>3960.27</td>\n",
              "    </tr>\n",
              "    <tr>\n",
              "      <th>15</th>\n",
              "      <td>2018-10-01</td>\n",
              "      <td>234.55</td>\n",
              "      <td>234.60</td>\n",
              "      <td>221.05</td>\n",
              "      <td>230.30</td>\n",
              "      <td>230.90</td>\n",
              "      <td>1534749</td>\n",
              "      <td>3486.05</td>\n",
              "    </tr>\n",
              "  </tbody>\n",
              "</table>\n",
              "</div>"
            ],
            "text/plain": [
              "          Date    Open    High  ...   Close  Total Trade Quantity  Turnover (Lacs)\n",
              "0   2018-10-24  220.10  221.25  ...  219.80               2171956          4771.34\n",
              "1   2018-10-23  221.10  222.20  ...  218.30               1416279          3092.15\n",
              "2   2018-10-22  229.45  231.60  ...  223.25               3529711          8028.37\n",
              "3   2018-10-19  230.30  232.70  ...  227.20               1527904          3490.78\n",
              "4   2018-10-17  237.70  240.80  ...  231.10               2945914          6961.65\n",
              "5   2018-10-16  237.10  237.70  ...  235.45               1723113          4052.25\n",
              "6   2018-10-15  229.70  237.00  ...  234.90               1224339          2845.68\n",
              "7   2018-10-12  226.25  232.35  ...  229.10               1165527          2675.91\n",
              "8   2018-10-11  215.00  229.70  ...  224.60               1293881          2890.85\n",
              "9   2018-10-10  215.00  229.65  ...  228.40               2919278          6557.95\n",
              "10  2018-10-09  215.50  219.15  ...  216.50               1844462          3940.70\n",
              "11  2018-10-08  208.00  222.25  ...  215.15               4642146         10062.83\n",
              "12  2018-10-05  217.00  218.60  ...  209.20               3519515          7407.06\n",
              "13  2018-10-04  223.50  227.80  ...  218.20               1728786          3815.79\n",
              "14  2018-10-03  230.00  237.50  ...  227.60               1708590          3960.27\n",
              "15  2018-10-01  234.55  234.60  ...  230.90               1534749          3486.05\n",
              "\n",
              "[16 rows x 8 columns]"
            ]
          },
          "metadata": {
            "tags": []
          },
          "execution_count": 15
        }
      ]
    },
    {
      "cell_type": "code",
      "metadata": {
        "colab": {
          "base_uri": "https://localhost:8080/"
        },
        "id": "4v3P-o1uZ_A_",
        "outputId": "1c42dfbe-2232-458e-acf7-d6dfb452c083"
      },
      "source": [
        "# extract opening stock price from this\n",
        "stock_price = dataset_test.iloc[:, 1:2].values\n",
        "stock_price.shape"
      ],
      "execution_count": null,
      "outputs": [
        {
          "output_type": "execute_result",
          "data": {
            "text/plain": [
              "(16, 1)"
            ]
          },
          "metadata": {
            "tags": []
          },
          "execution_count": 16
        }
      ]
    },
    {
      "cell_type": "code",
      "metadata": {
        "colab": {
          "base_uri": "https://localhost:8080/"
        },
        "id": "W-JX9Z-pbjog",
        "outputId": "a272bc8f-02a3-4a6b-a737-681821b94b70"
      },
      "source": [
        "# concatinating the train and dataset_train opening stock price together\n",
        "test_total = pd.concat((train['Open'], dataset_test['Open']), axis = 0)\n",
        "test_total.shape"
      ],
      "execution_count": null,
      "outputs": [
        {
          "output_type": "execute_result",
          "data": {
            "text/plain": [
              "(2051,)"
            ]
          },
          "metadata": {
            "tags": []
          },
          "execution_count": 17
        }
      ]
    },
    {
      "cell_type": "code",
      "metadata": {
        "colab": {
          "base_uri": "https://localhost:8080/"
        },
        "id": "QKRhYtoTcFaM",
        "outputId": "cf5164de-cd75-4bdc-ab69-ea962e812b14"
      },
      "source": [
        "input_samples = test_total[len(train) - 60:].values     # taking last 60 days of train dataset\n",
        "input_samples.shape"
      ],
      "execution_count": null,
      "outputs": [
        {
          "output_type": "execute_result",
          "data": {
            "text/plain": [
              "(76,)"
            ]
          },
          "metadata": {
            "tags": []
          },
          "execution_count": 18
        }
      ]
    },
    {
      "cell_type": "code",
      "metadata": {
        "colab": {
          "base_uri": "https://localhost:8080/"
        },
        "id": "fV_F_0SgcgYT",
        "outputId": "2c3540be-330d-4718-fea1-2275ff62a421"
      },
      "source": [
        "input_samples = input_samples.reshape(-1, 1)   # reshaping to change to row wise\n",
        "input_samples.shape"
      ],
      "execution_count": null,
      "outputs": [
        {
          "output_type": "execute_result",
          "data": {
            "text/plain": [
              "(76, 1)"
            ]
          },
          "metadata": {
            "tags": []
          },
          "execution_count": 19
        }
      ]
    },
    {
      "cell_type": "code",
      "metadata": {
        "id": "CXBE7-Ote3x5"
      },
      "source": [
        "# pre-processing the test dataset using MinMaxScalar\n",
        "input_samples = scale.transform(input_samples)"
      ],
      "execution_count": null,
      "outputs": []
    },
    {
      "cell_type": "code",
      "metadata": {
        "id": "iR4hiZYNfH3e"
      },
      "source": [
        "x_test = []\n",
        "for i in range(60, 76):\n",
        "  x_test.append(input_samples[i-60:i, 0])\n",
        "x_test = np.array(x_test)\n",
        "x_test = np.reshape(x_test, (x_test.shape[0], x_test.shape[1], 1))"
      ],
      "execution_count": null,
      "outputs": []
    },
    {
      "cell_type": "code",
      "metadata": {
        "id": "Erd-lpGRf45F"
      },
      "source": [
        "# Predictiong Stock Price\n",
        "pred_stock_price = model.predict(x_test)\n",
        "pred_stock_price = scale.inverse_transform(pred_stock_price)"
      ],
      "execution_count": null,
      "outputs": []
    },
    {
      "cell_type": "code",
      "metadata": {
        "colab": {
          "base_uri": "https://localhost:8080/"
        },
        "id": "Cb-FEJlTgTZz",
        "outputId": "31a9d29e-5e24-4119-c651-ea4481b31317"
      },
      "source": [
        "pred_stock_price.shape"
      ],
      "execution_count": null,
      "outputs": [
        {
          "output_type": "execute_result",
          "data": {
            "text/plain": [
              "(16, 1)"
            ]
          },
          "metadata": {
            "tags": []
          },
          "execution_count": 23
        }
      ]
    },
    {
      "cell_type": "code",
      "metadata": {
        "id": "MsTIbyXJiqx1",
        "colab": {
          "base_uri": "https://localhost:8080/",
          "height": 298
        },
        "outputId": "8576ad2f-bfcd-42b7-f57f-8493b5361f9a"
      },
      "source": [
        "plt.plot(stock_price, color = 'red', label = 'Test Stock Price')\n",
        "plt.plot(pred_stock_price, color = 'blue', label = 'Predicted Stock Price')\n",
        "plt.title('Stock Price Prediction')"
      ],
      "execution_count": null,
      "outputs": [
        {
          "output_type": "execute_result",
          "data": {
            "text/plain": [
              "Text(0.5, 1.0, 'Stock Price Prediction')"
            ]
          },
          "metadata": {
            "tags": []
          },
          "execution_count": 24
        },
        {
          "output_type": "display_data",
          "data": {
            "image/png": "[encoded data removed]",
            "text/plain": [
              "<Figure size 432x288 with 1 Axes>"
            ]
          },
          "metadata": {
            "tags": [],
            "needs_background": "light"
          }
        }
      ]
    },
    {
      "cell_type": "markdown",
      "metadata": {
        "id": "99QWoph5mE3Y"
      },
      "source": [
        "<h1><b><u>Conclusion :</u></b></h1><h3>1. We extract opening stock price column from NSE-TATAGLOBAL.csv dataset and convert it into nparray to preprocess it and then creating a function to get last 60 days stock data (in form of a list) into a list as the x_train and the 61st stock price as the y_train. <br>2. We make a LSTM model with 4 LSTM layers with a Dropout layer and 1 output neuron that predicts the 61st day stock price. We compile the model having optimizer as adam and loss as mean_squared_error. We then train the model with epochs = 20 and batch_size = 32.<br>3. We extract opening stock price column from tatatest.csv dataset and we concatinate the test and train dataset, then we take last 60 days data preprocess it and we predict the values and then plot test stock price and predicted stock price</h3>"
      ]
    },
    {
      "cell_type": "markdown",
      "metadata": {
        "id": "o9QQ4gC9qm7w"
      },
      "source": [
        "Recurrent neural network using LSTM is used to predict stock prices of the market.<br>\n",
        "Prediction is based on stock prices of last 60 days.\n",
        "Proposed model shows that loss of 0.0020 is acheived for 20 epochs.\n"
      ]
    }
  ]
}