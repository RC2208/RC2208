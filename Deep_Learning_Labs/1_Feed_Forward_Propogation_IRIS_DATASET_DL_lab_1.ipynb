{
  "nbformat": 4,
  "nbformat_minor": 0,
  "metadata": {
    "colab": {
      "name": "1.Feed_Forward_Propogation_IRIS_DATASET_DL lab_1",
      "provenance": []
    },
    "kernelspec": {
      "name": "python3",
      "display_name": "Python 3"
    }
  },
  "cells": [
    {
      "cell_type": "markdown",
      "metadata": {
        "id": "kyEif42Ub1FE"
      },
      "source": [
        "Ritika Chand <br>\n"
      ]
    },
    {
      "cell_type": "code",
      "metadata": {
        "id": "mWhFUmzIfft-"
      },
      "source": [
        "#feed forward propogation for IRIS dataset"
      ],
      "execution_count": null,
      "outputs": []
    },
    {
      "cell_type": "code",
      "metadata": {
        "id": "K7CbFQTxfgUV"
      },
      "source": [
        "import numpy as np\n",
        "import pandas as pd\n",
        "from sklearn.preprocessing import LabelEncoder\n",
        "from sklearn.preprocessing import StandardScaler"
      ],
      "execution_count": null,
      "outputs": []
    },
    {
      "cell_type": "code",
      "metadata": {
        "id": "NzvzlRODfgWa",
        "colab": {
          "base_uri": "https://localhost:8080/",
          "height": 196
        },
        "outputId": "29cf947a-a14f-4b11-a7af-67e7fd9755c3"
      },
      "source": [
        "df=pd.read_csv('iris_data.csv')\n",
        "df.head()"
      ],
      "execution_count": null,
      "outputs": [
        {
          "output_type": "execute_result",
          "data": {
            "text/html": [
              "<div>\n",
              "<style scoped>\n",
              "    .dataframe tbody tr th:only-of-type {\n",
              "        vertical-align: middle;\n",
              "    }\n",
              "\n",
              "    .dataframe tbody tr th {\n",
              "        vertical-align: top;\n",
              "    }\n",
              "\n",
              "    .dataframe thead th {\n",
              "        text-align: right;\n",
              "    }\n",
              "</style>\n",
              "<table border=\"1\" class=\"dataframe\">\n",
              "  <thead>\n",
              "    <tr style=\"text-align: right;\">\n",
              "      <th></th>\n",
              "      <th>sepal_length</th>\n",
              "      <th>sepal_width</th>\n",
              "      <th>petal_length</th>\n",
              "      <th>petal_width</th>\n",
              "      <th>species</th>\n",
              "    </tr>\n",
              "  </thead>\n",
              "  <tbody>\n",
              "    <tr>\n",
              "      <th>0</th>\n",
              "      <td>5.1</td>\n",
              "      <td>3.5</td>\n",
              "      <td>1.4</td>\n",
              "      <td>0.2</td>\n",
              "      <td>Iris-setosa</td>\n",
              "    </tr>\n",
              "    <tr>\n",
              "      <th>1</th>\n",
              "      <td>4.9</td>\n",
              "      <td>3.0</td>\n",
              "      <td>1.4</td>\n",
              "      <td>0.2</td>\n",
              "      <td>Iris-setosa</td>\n",
              "    </tr>\n",
              "    <tr>\n",
              "      <th>2</th>\n",
              "      <td>4.7</td>\n",
              "      <td>3.2</td>\n",
              "      <td>1.3</td>\n",
              "      <td>0.2</td>\n",
              "      <td>Iris-setosa</td>\n",
              "    </tr>\n",
              "    <tr>\n",
              "      <th>3</th>\n",
              "      <td>4.6</td>\n",
              "      <td>3.1</td>\n",
              "      <td>1.5</td>\n",
              "      <td>0.2</td>\n",
              "      <td>Iris-setosa</td>\n",
              "    </tr>\n",
              "    <tr>\n",
              "      <th>4</th>\n",
              "      <td>5.0</td>\n",
              "      <td>3.6</td>\n",
              "      <td>1.4</td>\n",
              "      <td>0.2</td>\n",
              "      <td>Iris-setosa</td>\n",
              "    </tr>\n",
              "  </tbody>\n",
              "</table>\n",
              "</div>"
            ],
            "text/plain": [
              "   sepal_length  sepal_width  petal_length  petal_width      species\n",
              "0           5.1          3.5           1.4          0.2  Iris-setosa\n",
              "1           4.9          3.0           1.4          0.2  Iris-setosa\n",
              "2           4.7          3.2           1.3          0.2  Iris-setosa\n",
              "3           4.6          3.1           1.5          0.2  Iris-setosa\n",
              "4           5.0          3.6           1.4          0.2  Iris-setosa"
            ]
          },
          "metadata": {
            "tags": []
          },
          "execution_count": 3
        }
      ]
    },
    {
      "cell_type": "code",
      "metadata": {
        "id": "8sUwczk9fgY2",
        "colab": {
          "base_uri": "https://localhost:8080/"
        },
        "outputId": "453d4438-3a45-4e36-d1cc-f532e32d7243"
      },
      "source": [
        "df.shape #rows and columns"
      ],
      "execution_count": null,
      "outputs": [
        {
          "output_type": "execute_result",
          "data": {
            "text/plain": [
              "(150, 5)"
            ]
          },
          "metadata": {
            "tags": []
          },
          "execution_count": 4
        }
      ]
    },
    {
      "cell_type": "code",
      "metadata": {
        "id": "GPc-POtsfgbk",
        "colab": {
          "base_uri": "https://localhost:8080/"
        },
        "outputId": "96ce3df8-b942-4c1d-a5ed-db4cab57aeaa"
      },
      "source": [
        "# converting category value of column 'species' to numeric (used in ml)\n",
        "label= LabelEncoder()                       # converts to numeric value\n",
        "label=label.fit_transform(df.iloc[:,-1])    # last column\n",
        "#label.shape                                #numpy doesn't like (150,) notation. Thus change it\n",
        "label=label.reshape((-1,1))                 #-1 means takes all the rows in dataset and 1 column \n",
        "label.shape"
      ],
      "execution_count": null,
      "outputs": [
        {
          "output_type": "execute_result",
          "data": {
            "text/plain": [
              "(150, 1)"
            ]
          },
          "metadata": {
            "tags": []
          },
          "execution_count": 5
        }
      ]
    },
    {
      "cell_type": "code",
      "metadata": {
        "id": "YZgxznrSfgeS",
        "colab": {
          "base_uri": "https://localhost:8080/",
          "height": 404
        },
        "outputId": "6c8e922a-e614-435d-9d9c-b010bcb8a1bb"
      },
      "source": [
        "df.iloc[:,-1]=label\n",
        "df"
      ],
      "execution_count": null,
      "outputs": [
        {
          "output_type": "execute_result",
          "data": {
            "text/html": [
              "<div>\n",
              "<style scoped>\n",
              "    .dataframe tbody tr th:only-of-type {\n",
              "        vertical-align: middle;\n",
              "    }\n",
              "\n",
              "    .dataframe tbody tr th {\n",
              "        vertical-align: top;\n",
              "    }\n",
              "\n",
              "    .dataframe thead th {\n",
              "        text-align: right;\n",
              "    }\n",
              "</style>\n",
              "<table border=\"1\" class=\"dataframe\">\n",
              "  <thead>\n",
              "    <tr style=\"text-align: right;\">\n",
              "      <th></th>\n",
              "      <th>sepal_length</th>\n",
              "      <th>sepal_width</th>\n",
              "      <th>petal_length</th>\n",
              "      <th>petal_width</th>\n",
              "      <th>species</th>\n",
              "    </tr>\n",
              "  </thead>\n",
              "  <tbody>\n",
              "    <tr>\n",
              "      <th>0</th>\n",
              "      <td>5.1</td>\n",
              "      <td>3.5</td>\n",
              "      <td>1.4</td>\n",
              "      <td>0.2</td>\n",
              "      <td>0</td>\n",
              "    </tr>\n",
              "    <tr>\n",
              "      <th>1</th>\n",
              "      <td>4.9</td>\n",
              "      <td>3.0</td>\n",
              "      <td>1.4</td>\n",
              "      <td>0.2</td>\n",
              "      <td>0</td>\n",
              "    </tr>\n",
              "    <tr>\n",
              "      <th>2</th>\n",
              "      <td>4.7</td>\n",
              "      <td>3.2</td>\n",
              "      <td>1.3</td>\n",
              "      <td>0.2</td>\n",
              "      <td>0</td>\n",
              "    </tr>\n",
              "    <tr>\n",
              "      <th>3</th>\n",
              "      <td>4.6</td>\n",
              "      <td>3.1</td>\n",
              "      <td>1.5</td>\n",
              "      <td>0.2</td>\n",
              "      <td>0</td>\n",
              "    </tr>\n",
              "    <tr>\n",
              "      <th>4</th>\n",
              "      <td>5.0</td>\n",
              "      <td>3.6</td>\n",
              "      <td>1.4</td>\n",
              "      <td>0.2</td>\n",
              "      <td>0</td>\n",
              "    </tr>\n",
              "    <tr>\n",
              "      <th>...</th>\n",
              "      <td>...</td>\n",
              "      <td>...</td>\n",
              "      <td>...</td>\n",
              "      <td>...</td>\n",
              "      <td>...</td>\n",
              "    </tr>\n",
              "    <tr>\n",
              "      <th>145</th>\n",
              "      <td>6.7</td>\n",
              "      <td>3.0</td>\n",
              "      <td>5.2</td>\n",
              "      <td>2.3</td>\n",
              "      <td>2</td>\n",
              "    </tr>\n",
              "    <tr>\n",
              "      <th>146</th>\n",
              "      <td>6.3</td>\n",
              "      <td>2.5</td>\n",
              "      <td>5.0</td>\n",
              "      <td>1.9</td>\n",
              "      <td>2</td>\n",
              "    </tr>\n",
              "    <tr>\n",
              "      <th>147</th>\n",
              "      <td>6.5</td>\n",
              "      <td>3.0</td>\n",
              "      <td>5.2</td>\n",
              "      <td>2.0</td>\n",
              "      <td>2</td>\n",
              "    </tr>\n",
              "    <tr>\n",
              "      <th>148</th>\n",
              "      <td>6.2</td>\n",
              "      <td>3.4</td>\n",
              "      <td>5.4</td>\n",
              "      <td>2.3</td>\n",
              "      <td>2</td>\n",
              "    </tr>\n",
              "    <tr>\n",
              "      <th>149</th>\n",
              "      <td>5.9</td>\n",
              "      <td>3.0</td>\n",
              "      <td>5.1</td>\n",
              "      <td>1.8</td>\n",
              "      <td>2</td>\n",
              "    </tr>\n",
              "  </tbody>\n",
              "</table>\n",
              "<p>150 rows × 5 columns</p>\n",
              "</div>"
            ],
            "text/plain": [
              "     sepal_length  sepal_width  petal_length  petal_width  species\n",
              "0             5.1          3.5           1.4          0.2        0\n",
              "1             4.9          3.0           1.4          0.2        0\n",
              "2             4.7          3.2           1.3          0.2        0\n",
              "3             4.6          3.1           1.5          0.2        0\n",
              "4             5.0          3.6           1.4          0.2        0\n",
              "..            ...          ...           ...          ...      ...\n",
              "145           6.7          3.0           5.2          2.3        2\n",
              "146           6.3          2.5           5.0          1.9        2\n",
              "147           6.5          3.0           5.2          2.0        2\n",
              "148           6.2          3.4           5.4          2.3        2\n",
              "149           5.9          3.0           5.1          1.8        2\n",
              "\n",
              "[150 rows x 5 columns]"
            ]
          },
          "metadata": {
            "tags": []
          },
          "execution_count": 6
        }
      ]
    },
    {
      "cell_type": "code",
      "metadata": {
        "id": "XYEilhZnfggx"
      },
      "source": [
        "# gotta normalize to avoid machine going haywire. Scale it so that all column values are within the same range."
      ],
      "execution_count": null,
      "outputs": []
    },
    {
      "cell_type": "code",
      "metadata": {
        "id": "tJaDff6mfgjQ",
        "colab": {
          "base_uri": "https://localhost:8080/",
          "height": 196
        },
        "outputId": "a793d1b7-1cba-4edb-cb17-368195462229"
      },
      "source": [
        "#Scaling of attributes\n",
        "#make mean 0 and varience 1\n",
        "scaler=StandardScaler()     #scaling finds mean of each column and deduct mean from each column and finds varience and divides by each column val\n",
        "input_float=df.iloc[:,0:4] # all rows and from column 0 to 3\n",
        "scaler.fit(input_float)\n",
        "input_float=scaler.transform(input_float)\n",
        "df.iloc[:,0:4]=input_float\n",
        "df.head()"
      ],
      "execution_count": null,
      "outputs": [
        {
          "output_type": "execute_result",
          "data": {
            "text/html": [
              "<div>\n",
              "<style scoped>\n",
              "    .dataframe tbody tr th:only-of-type {\n",
              "        vertical-align: middle;\n",
              "    }\n",
              "\n",
              "    .dataframe tbody tr th {\n",
              "        vertical-align: top;\n",
              "    }\n",
              "\n",
              "    .dataframe thead th {\n",
              "        text-align: right;\n",
              "    }\n",
              "</style>\n",
              "<table border=\"1\" class=\"dataframe\">\n",
              "  <thead>\n",
              "    <tr style=\"text-align: right;\">\n",
              "      <th></th>\n",
              "      <th>sepal_length</th>\n",
              "      <th>sepal_width</th>\n",
              "      <th>petal_length</th>\n",
              "      <th>petal_width</th>\n",
              "      <th>species</th>\n",
              "    </tr>\n",
              "  </thead>\n",
              "  <tbody>\n",
              "    <tr>\n",
              "      <th>0</th>\n",
              "      <td>-0.900681</td>\n",
              "      <td>1.032057</td>\n",
              "      <td>-1.341272</td>\n",
              "      <td>-1.312977</td>\n",
              "      <td>0</td>\n",
              "    </tr>\n",
              "    <tr>\n",
              "      <th>1</th>\n",
              "      <td>-1.143017</td>\n",
              "      <td>-0.124958</td>\n",
              "      <td>-1.341272</td>\n",
              "      <td>-1.312977</td>\n",
              "      <td>0</td>\n",
              "    </tr>\n",
              "    <tr>\n",
              "      <th>2</th>\n",
              "      <td>-1.385353</td>\n",
              "      <td>0.337848</td>\n",
              "      <td>-1.398138</td>\n",
              "      <td>-1.312977</td>\n",
              "      <td>0</td>\n",
              "    </tr>\n",
              "    <tr>\n",
              "      <th>3</th>\n",
              "      <td>-1.506521</td>\n",
              "      <td>0.106445</td>\n",
              "      <td>-1.284407</td>\n",
              "      <td>-1.312977</td>\n",
              "      <td>0</td>\n",
              "    </tr>\n",
              "    <tr>\n",
              "      <th>4</th>\n",
              "      <td>-1.021849</td>\n",
              "      <td>1.263460</td>\n",
              "      <td>-1.341272</td>\n",
              "      <td>-1.312977</td>\n",
              "      <td>0</td>\n",
              "    </tr>\n",
              "  </tbody>\n",
              "</table>\n",
              "</div>"
            ],
            "text/plain": [
              "   sepal_length  sepal_width  petal_length  petal_width  species\n",
              "0     -0.900681     1.032057     -1.341272    -1.312977        0\n",
              "1     -1.143017    -0.124958     -1.341272    -1.312977        0\n",
              "2     -1.385353     0.337848     -1.398138    -1.312977        0\n",
              "3     -1.506521     0.106445     -1.284407    -1.312977        0\n",
              "4     -1.021849     1.263460     -1.341272    -1.312977        0"
            ]
          },
          "metadata": {
            "tags": []
          },
          "execution_count": 8
        }
      ]
    },
    {
      "cell_type": "code",
      "metadata": {
        "id": "a2hEvDzMfgkz"
      },
      "source": [
        "df.insert(5,'flower1',0)\n",
        "df.insert(6,'flower2',0)\n",
        "df.insert(7,'flower3',0)"
      ],
      "execution_count": null,
      "outputs": []
    },
    {
      "cell_type": "code",
      "metadata": {
        "id": "Pbm6U4oyfgoR",
        "colab": {
          "base_uri": "https://localhost:8080/",
          "height": 404
        },
        "outputId": "95b094b6-d7d9-4ebe-9e16-13a3c4e7b0f5"
      },
      "source": [
        "df"
      ],
      "execution_count": null,
      "outputs": [
        {
          "output_type": "execute_result",
          "data": {
            "text/html": [
              "<div>\n",
              "<style scoped>\n",
              "    .dataframe tbody tr th:only-of-type {\n",
              "        vertical-align: middle;\n",
              "    }\n",
              "\n",
              "    .dataframe tbody tr th {\n",
              "        vertical-align: top;\n",
              "    }\n",
              "\n",
              "    .dataframe thead th {\n",
              "        text-align: right;\n",
              "    }\n",
              "</style>\n",
              "<table border=\"1\" class=\"dataframe\">\n",
              "  <thead>\n",
              "    <tr style=\"text-align: right;\">\n",
              "      <th></th>\n",
              "      <th>sepal_length</th>\n",
              "      <th>sepal_width</th>\n",
              "      <th>petal_length</th>\n",
              "      <th>petal_width</th>\n",
              "      <th>species</th>\n",
              "      <th>flower1</th>\n",
              "      <th>flower2</th>\n",
              "      <th>flower3</th>\n",
              "    </tr>\n",
              "  </thead>\n",
              "  <tbody>\n",
              "    <tr>\n",
              "      <th>0</th>\n",
              "      <td>-0.900681</td>\n",
              "      <td>1.032057</td>\n",
              "      <td>-1.341272</td>\n",
              "      <td>-1.312977</td>\n",
              "      <td>0</td>\n",
              "      <td>0</td>\n",
              "      <td>0</td>\n",
              "      <td>0</td>\n",
              "    </tr>\n",
              "    <tr>\n",
              "      <th>1</th>\n",
              "      <td>-1.143017</td>\n",
              "      <td>-0.124958</td>\n",
              "      <td>-1.341272</td>\n",
              "      <td>-1.312977</td>\n",
              "      <td>0</td>\n",
              "      <td>0</td>\n",
              "      <td>0</td>\n",
              "      <td>0</td>\n",
              "    </tr>\n",
              "    <tr>\n",
              "      <th>2</th>\n",
              "      <td>-1.385353</td>\n",
              "      <td>0.337848</td>\n",
              "      <td>-1.398138</td>\n",
              "      <td>-1.312977</td>\n",
              "      <td>0</td>\n",
              "      <td>0</td>\n",
              "      <td>0</td>\n",
              "      <td>0</td>\n",
              "    </tr>\n",
              "    <tr>\n",
              "      <th>3</th>\n",
              "      <td>-1.506521</td>\n",
              "      <td>0.106445</td>\n",
              "      <td>-1.284407</td>\n",
              "      <td>-1.312977</td>\n",
              "      <td>0</td>\n",
              "      <td>0</td>\n",
              "      <td>0</td>\n",
              "      <td>0</td>\n",
              "    </tr>\n",
              "    <tr>\n",
              "      <th>4</th>\n",
              "      <td>-1.021849</td>\n",
              "      <td>1.263460</td>\n",
              "      <td>-1.341272</td>\n",
              "      <td>-1.312977</td>\n",
              "      <td>0</td>\n",
              "      <td>0</td>\n",
              "      <td>0</td>\n",
              "      <td>0</td>\n",
              "    </tr>\n",
              "    <tr>\n",
              "      <th>...</th>\n",
              "      <td>...</td>\n",
              "      <td>...</td>\n",
              "      <td>...</td>\n",
              "      <td>...</td>\n",
              "      <td>...</td>\n",
              "      <td>...</td>\n",
              "      <td>...</td>\n",
              "      <td>...</td>\n",
              "    </tr>\n",
              "    <tr>\n",
              "      <th>145</th>\n",
              "      <td>1.038005</td>\n",
              "      <td>-0.124958</td>\n",
              "      <td>0.819624</td>\n",
              "      <td>1.447956</td>\n",
              "      <td>2</td>\n",
              "      <td>0</td>\n",
              "      <td>0</td>\n",
              "      <td>0</td>\n",
              "    </tr>\n",
              "    <tr>\n",
              "      <th>146</th>\n",
              "      <td>0.553333</td>\n",
              "      <td>-1.281972</td>\n",
              "      <td>0.705893</td>\n",
              "      <td>0.922064</td>\n",
              "      <td>2</td>\n",
              "      <td>0</td>\n",
              "      <td>0</td>\n",
              "      <td>0</td>\n",
              "    </tr>\n",
              "    <tr>\n",
              "      <th>147</th>\n",
              "      <td>0.795669</td>\n",
              "      <td>-0.124958</td>\n",
              "      <td>0.819624</td>\n",
              "      <td>1.053537</td>\n",
              "      <td>2</td>\n",
              "      <td>0</td>\n",
              "      <td>0</td>\n",
              "      <td>0</td>\n",
              "    </tr>\n",
              "    <tr>\n",
              "      <th>148</th>\n",
              "      <td>0.432165</td>\n",
              "      <td>0.800654</td>\n",
              "      <td>0.933356</td>\n",
              "      <td>1.447956</td>\n",
              "      <td>2</td>\n",
              "      <td>0</td>\n",
              "      <td>0</td>\n",
              "      <td>0</td>\n",
              "    </tr>\n",
              "    <tr>\n",
              "      <th>149</th>\n",
              "      <td>0.068662</td>\n",
              "      <td>-0.124958</td>\n",
              "      <td>0.762759</td>\n",
              "      <td>0.790591</td>\n",
              "      <td>2</td>\n",
              "      <td>0</td>\n",
              "      <td>0</td>\n",
              "      <td>0</td>\n",
              "    </tr>\n",
              "  </tbody>\n",
              "</table>\n",
              "<p>150 rows × 8 columns</p>\n",
              "</div>"
            ],
            "text/plain": [
              "     sepal_length  sepal_width  petal_length  ...  flower1  flower2  flower3\n",
              "0       -0.900681     1.032057     -1.341272  ...        0        0        0\n",
              "1       -1.143017    -0.124958     -1.341272  ...        0        0        0\n",
              "2       -1.385353     0.337848     -1.398138  ...        0        0        0\n",
              "3       -1.506521     0.106445     -1.284407  ...        0        0        0\n",
              "4       -1.021849     1.263460     -1.341272  ...        0        0        0\n",
              "..            ...          ...           ...  ...      ...      ...      ...\n",
              "145      1.038005    -0.124958      0.819624  ...        0        0        0\n",
              "146      0.553333    -1.281972      0.705893  ...        0        0        0\n",
              "147      0.795669    -0.124958      0.819624  ...        0        0        0\n",
              "148      0.432165     0.800654      0.933356  ...        0        0        0\n",
              "149      0.068662    -0.124958      0.762759  ...        0        0        0\n",
              "\n",
              "[150 rows x 8 columns]"
            ]
          },
          "metadata": {
            "tags": []
          },
          "execution_count": 10
        }
      ]
    },
    {
      "cell_type": "code",
      "metadata": {
        "id": "YqOj8Z06fgp8",
        "colab": {
          "base_uri": "https://localhost:8080/",
          "height": 404
        },
        "outputId": "4997329f-2c0b-4ec6-8511-cc7c84fd6574"
      },
      "source": [
        "[rows,columns]=df.shape    # if species is 0 then its flower1 thus rest are 0 and flower1 is 1....similarly\n",
        "for i in range(rows):\n",
        "  if df.iloc[i,4]==0:   \n",
        "    df.iloc[i,5]=1        #flower1 is 1\n",
        "  elif df.iloc[i,4]==1:\n",
        "    df.iloc[i,6]=1         #flower2 is 1\n",
        "  else:\n",
        "    df.iloc[i,7]=1\n",
        "\n",
        "df"
      ],
      "execution_count": null,
      "outputs": [
        {
          "output_type": "execute_result",
          "data": {
            "text/html": [
              "<div>\n",
              "<style scoped>\n",
              "    .dataframe tbody tr th:only-of-type {\n",
              "        vertical-align: middle;\n",
              "    }\n",
              "\n",
              "    .dataframe tbody tr th {\n",
              "        vertical-align: top;\n",
              "    }\n",
              "\n",
              "    .dataframe thead th {\n",
              "        text-align: right;\n",
              "    }\n",
              "</style>\n",
              "<table border=\"1\" class=\"dataframe\">\n",
              "  <thead>\n",
              "    <tr style=\"text-align: right;\">\n",
              "      <th></th>\n",
              "      <th>sepal_length</th>\n",
              "      <th>sepal_width</th>\n",
              "      <th>petal_length</th>\n",
              "      <th>petal_width</th>\n",
              "      <th>species</th>\n",
              "      <th>flower1</th>\n",
              "      <th>flower2</th>\n",
              "      <th>flower3</th>\n",
              "    </tr>\n",
              "  </thead>\n",
              "  <tbody>\n",
              "    <tr>\n",
              "      <th>0</th>\n",
              "      <td>-0.900681</td>\n",
              "      <td>1.032057</td>\n",
              "      <td>-1.341272</td>\n",
              "      <td>-1.312977</td>\n",
              "      <td>0</td>\n",
              "      <td>1</td>\n",
              "      <td>0</td>\n",
              "      <td>0</td>\n",
              "    </tr>\n",
              "    <tr>\n",
              "      <th>1</th>\n",
              "      <td>-1.143017</td>\n",
              "      <td>-0.124958</td>\n",
              "      <td>-1.341272</td>\n",
              "      <td>-1.312977</td>\n",
              "      <td>0</td>\n",
              "      <td>1</td>\n",
              "      <td>0</td>\n",
              "      <td>0</td>\n",
              "    </tr>\n",
              "    <tr>\n",
              "      <th>2</th>\n",
              "      <td>-1.385353</td>\n",
              "      <td>0.337848</td>\n",
              "      <td>-1.398138</td>\n",
              "      <td>-1.312977</td>\n",
              "      <td>0</td>\n",
              "      <td>1</td>\n",
              "      <td>0</td>\n",
              "      <td>0</td>\n",
              "    </tr>\n",
              "    <tr>\n",
              "      <th>3</th>\n",
              "      <td>-1.506521</td>\n",
              "      <td>0.106445</td>\n",
              "      <td>-1.284407</td>\n",
              "      <td>-1.312977</td>\n",
              "      <td>0</td>\n",
              "      <td>1</td>\n",
              "      <td>0</td>\n",
              "      <td>0</td>\n",
              "    </tr>\n",
              "    <tr>\n",
              "      <th>4</th>\n",
              "      <td>-1.021849</td>\n",
              "      <td>1.263460</td>\n",
              "      <td>-1.341272</td>\n",
              "      <td>-1.312977</td>\n",
              "      <td>0</td>\n",
              "      <td>1</td>\n",
              "      <td>0</td>\n",
              "      <td>0</td>\n",
              "    </tr>\n",
              "    <tr>\n",
              "      <th>...</th>\n",
              "      <td>...</td>\n",
              "      <td>...</td>\n",
              "      <td>...</td>\n",
              "      <td>...</td>\n",
              "      <td>...</td>\n",
              "      <td>...</td>\n",
              "      <td>...</td>\n",
              "      <td>...</td>\n",
              "    </tr>\n",
              "    <tr>\n",
              "      <th>145</th>\n",
              "      <td>1.038005</td>\n",
              "      <td>-0.124958</td>\n",
              "      <td>0.819624</td>\n",
              "      <td>1.447956</td>\n",
              "      <td>2</td>\n",
              "      <td>0</td>\n",
              "      <td>0</td>\n",
              "      <td>1</td>\n",
              "    </tr>\n",
              "    <tr>\n",
              "      <th>146</th>\n",
              "      <td>0.553333</td>\n",
              "      <td>-1.281972</td>\n",
              "      <td>0.705893</td>\n",
              "      <td>0.922064</td>\n",
              "      <td>2</td>\n",
              "      <td>0</td>\n",
              "      <td>0</td>\n",
              "      <td>1</td>\n",
              "    </tr>\n",
              "    <tr>\n",
              "      <th>147</th>\n",
              "      <td>0.795669</td>\n",
              "      <td>-0.124958</td>\n",
              "      <td>0.819624</td>\n",
              "      <td>1.053537</td>\n",
              "      <td>2</td>\n",
              "      <td>0</td>\n",
              "      <td>0</td>\n",
              "      <td>1</td>\n",
              "    </tr>\n",
              "    <tr>\n",
              "      <th>148</th>\n",
              "      <td>0.432165</td>\n",
              "      <td>0.800654</td>\n",
              "      <td>0.933356</td>\n",
              "      <td>1.447956</td>\n",
              "      <td>2</td>\n",
              "      <td>0</td>\n",
              "      <td>0</td>\n",
              "      <td>1</td>\n",
              "    </tr>\n",
              "    <tr>\n",
              "      <th>149</th>\n",
              "      <td>0.068662</td>\n",
              "      <td>-0.124958</td>\n",
              "      <td>0.762759</td>\n",
              "      <td>0.790591</td>\n",
              "      <td>2</td>\n",
              "      <td>0</td>\n",
              "      <td>0</td>\n",
              "      <td>1</td>\n",
              "    </tr>\n",
              "  </tbody>\n",
              "</table>\n",
              "<p>150 rows × 8 columns</p>\n",
              "</div>"
            ],
            "text/plain": [
              "     sepal_length  sepal_width  petal_length  ...  flower1  flower2  flower3\n",
              "0       -0.900681     1.032057     -1.341272  ...        1        0        0\n",
              "1       -1.143017    -0.124958     -1.341272  ...        1        0        0\n",
              "2       -1.385353     0.337848     -1.398138  ...        1        0        0\n",
              "3       -1.506521     0.106445     -1.284407  ...        1        0        0\n",
              "4       -1.021849     1.263460     -1.341272  ...        1        0        0\n",
              "..            ...          ...           ...  ...      ...      ...      ...\n",
              "145      1.038005    -0.124958      0.819624  ...        0        0        1\n",
              "146      0.553333    -1.281972      0.705893  ...        0        0        1\n",
              "147      0.795669    -0.124958      0.819624  ...        0        0        1\n",
              "148      0.432165     0.800654      0.933356  ...        0        0        1\n",
              "149      0.068662    -0.124958      0.762759  ...        0        0        1\n",
              "\n",
              "[150 rows x 8 columns]"
            ]
          },
          "metadata": {
            "tags": []
          },
          "execution_count": 11
        }
      ]
    },
    {
      "cell_type": "code",
      "metadata": {
        "id": "2S-XGSLLfgtR"
      },
      "source": [
        "np.random.seed(42) #all computers will generate the same random number\n",
        "w_i_h1=np.random.rand(4,1) # 4 weights from input layer to hidden layer1\n",
        "w_i_h2=np.random.rand(4,1)\n",
        "w_h_o1=np.random.rand(2,1) #2 multipliers/lines to that node\n",
        "w_h_o2=np.random.rand(2,1)\n",
        "w_h_o3=np.random.rand(2,1)\n",
        "\n",
        "bias1=np.random.rand(1)\n",
        "bias2=np.random.rand(1)"
      ],
      "execution_count": null,
      "outputs": []
    },
    {
      "cell_type": "code",
      "metadata": {
        "colab": {
          "base_uri": "https://localhost:8080/"
        },
        "id": "7TaB9LB0jt1V",
        "outputId": "b69726a7-82e7-43bc-b7dd-c25583284cd0"
      },
      "source": [
        "bias1"
      ],
      "execution_count": null,
      "outputs": [
        {
          "output_type": "execute_result",
          "data": {
            "text/plain": [
              "array([0.18182497])"
            ]
          },
          "metadata": {
            "tags": []
          },
          "execution_count": 20
        }
      ]
    },
    {
      "cell_type": "code",
      "metadata": {
        "id": "RGA_RJynsYFc"
      },
      "source": [
        "def sigmoid(x):\n",
        "  y=1/(1+np.exp(-x))\n",
        "  return y"
      ],
      "execution_count": null,
      "outputs": []
    },
    {
      "cell_type": "code",
      "metadata": {
        "colab": {
          "base_uri": "https://localhost:8080/"
        },
        "id": "Q7rUoFMDsYHg",
        "outputId": "11f05264-ef37-4800-e2dd-53578a74c031"
      },
      "source": [
        "inputs=np.array(df)\n",
        "feature_set=inputs[:,:4]    #need 1st 4 columns\n",
        "feature_set.shape"
      ],
      "execution_count": null,
      "outputs": [
        {
          "output_type": "execute_result",
          "data": {
            "text/plain": [
              "(150, 4)"
            ]
          },
          "metadata": {
            "tags": []
          },
          "execution_count": 22
        }
      ]
    },
    {
      "cell_type": "code",
      "metadata": {
        "id": "RaOBisu2sYKc"
      },
      "source": [
        "#input to hidden layer\n",
        "Z2_1=np.dot(feature_set,w_i_h1)+bias1\n",
        "Z2_2=np.dot(feature_set,w_i_h2)+bias2"
      ],
      "execution_count": null,
      "outputs": []
    },
    {
      "cell_type": "code",
      "metadata": {
        "id": "hTJWslcOsYMY"
      },
      "source": [
        "h2_1=sigmoid(Z2_1)\n",
        "h2_2=sigmoid(Z2_2)"
      ],
      "execution_count": null,
      "outputs": []
    },
    {
      "cell_type": "code",
      "metadata": {
        "id": "AcrWuVxMsYPb",
        "colab": {
          "base_uri": "https://localhost:8080/"
        },
        "outputId": "6d4368cd-0b04-4eed-8a8f-3f3932a0f908"
      },
      "source": [
        "h2_1.shape"
      ],
      "execution_count": null,
      "outputs": [
        {
          "output_type": "execute_result",
          "data": {
            "text/plain": [
              "(150, 1)"
            ]
          },
          "metadata": {
            "tags": []
          },
          "execution_count": 30
        }
      ]
    },
    {
      "cell_type": "code",
      "metadata": {
        "id": "K5E_2bibsYTE"
      },
      "source": [
        "h2=np.append(h2_1,h2_2,axis=1)\n",
        "Z3_1=np.dot(h2,w_h_o1)\n",
        "Z3_2=np.dot(h2,w_h_o2)\n",
        "Z3_3=np.dot(h2,w_h_o3)\n",
        "o1=sigmoid(Z3_1)\n",
        "o2=sigmoid(Z3_2)\n",
        "o3=sigmoid(Z3_3)"
      ],
      "execution_count": null,
      "outputs": []
    },
    {
      "cell_type": "code",
      "metadata": {
        "id": "BXmAhI-4sYVU",
        "colab": {
          "base_uri": "https://localhost:8080/"
        },
        "outputId": "eef92cc8-e5cf-455c-e3b9-12d14a16d0fe"
      },
      "source": [
        "o1  "
      ],
      "execution_count": null,
      "outputs": [
        {
          "output_type": "execute_result",
          "data": {
            "text/plain": [
              "array([[0.58842384],\n",
              "       [0.55573855],\n",
              "       [0.56156672],\n",
              "       [0.55706384],\n",
              "       [0.59431021],\n",
              "       [0.64769169],\n",
              "       [0.57792115],\n",
              "       [0.5804475 ],\n",
              "       [0.54659937],\n",
              "       [0.55626838],\n",
              "       [0.61300412],\n",
              "       [0.57803356],\n",
              "       [0.55015517],\n",
              "       [0.54337426],\n",
              "       [0.64403287],\n",
              "       [0.68705059],\n",
              "       [0.64157517],\n",
              "       [0.59468015],\n",
              "       [0.63874625],\n",
              "       [0.62198098],\n",
              "       [0.59066903],\n",
              "       [0.61987965],\n",
              "       [0.58114697],\n",
              "       [0.59607471],\n",
              "       [0.58169055],\n",
              "       [0.55842504],\n",
              "       [0.59395106],\n",
              "       [0.5917726 ],\n",
              "       [0.58291017],\n",
              "       [0.56418374],\n",
              "       [0.56047653],\n",
              "       [0.60075082],\n",
              "       [0.63750023],\n",
              "       [0.65694602],\n",
              "       [0.55626838],\n",
              "       [0.56497514],\n",
              "       [0.59510622],\n",
              "       [0.55626838],\n",
              "       [0.54942125],\n",
              "       [0.58228898],\n",
              "       [0.59131684],\n",
              "       [0.5368727 ],\n",
              "       [0.55753702],\n",
              "       [0.61551373],\n",
              "       [0.63519079],\n",
              "       [0.55919233],\n",
              "       [0.61679275],\n",
              "       [0.56101806],\n",
              "       [0.61077598],\n",
              "       [0.57268685],\n",
              "       [0.72587488],\n",
              "       [0.72052205],\n",
              "       [0.72607248],\n",
              "       [0.61364209],\n",
              "       [0.6964367 ],\n",
              "       [0.66431967],\n",
              "       [0.73083149],\n",
              "       [0.5845725 ],\n",
              "       [0.69352727],\n",
              "       [0.64266541],\n",
              "       [0.57133686],\n",
              "       [0.69458347],\n",
              "       [0.5970719 ],\n",
              "       [0.69118997],\n",
              "       [0.65713457],\n",
              "       [0.71297122],\n",
              "       [0.69259397],\n",
              "       [0.63023309],\n",
              "       [0.63909499],\n",
              "       [0.61461569],\n",
              "       [0.73074917],\n",
              "       [0.66572912],\n",
              "       [0.67159426],\n",
              "       [0.66929143],\n",
              "       [0.68528228],\n",
              "       [0.70454881],\n",
              "       [0.69879526],\n",
              "       [0.72859411],\n",
              "       [0.69282938],\n",
              "       [0.61214533],\n",
              "       [0.60487727],\n",
              "       [0.59747427],\n",
              "       [0.64164478],\n",
              "       [0.69154995],\n",
              "       [0.68846905],\n",
              "       [0.73003967],\n",
              "       [0.72136298],\n",
              "       [0.63382718],\n",
              "       [0.67344813],\n",
              "       [0.62752979],\n",
              "       [0.63386714],\n",
              "       [0.69756544],\n",
              "       [0.63472127],\n",
              "       [0.5814302 ],\n",
              "       [0.64876718],\n",
              "       [0.67017885],\n",
              "       [0.66851527],\n",
              "       [0.68101577],\n",
              "       [0.59626585],\n",
              "       [0.65822577],\n",
              "       [0.76611328],\n",
              "       [0.70584389],\n",
              "       [0.75430872],\n",
              "       [0.7277731 ],\n",
              "       [0.75172715],\n",
              "       [0.76057014],\n",
              "       [0.64914719],\n",
              "       [0.74502678],\n",
              "       [0.71122475],\n",
              "       [0.77337717],\n",
              "       [0.74787058],\n",
              "       [0.71912346],\n",
              "       [0.74955132],\n",
              "       [0.69258191],\n",
              "       [0.736969  ],\n",
              "       [0.75734505],\n",
              "       [0.7346804 ],\n",
              "       [0.77246054],\n",
              "       [0.75813138],\n",
              "       [0.64154105],\n",
              "       [0.76230176],\n",
              "       [0.71253259],\n",
              "       [0.75420387],\n",
              "       [0.70694339],\n",
              "       [0.7580768 ],\n",
              "       [0.75159041],\n",
              "       [0.71110951],\n",
              "       [0.72363387],\n",
              "       [0.73731324],\n",
              "       [0.73670319],\n",
              "       [0.74492344],\n",
              "       [0.7695124 ],\n",
              "       [0.74132205],\n",
              "       [0.69913911],\n",
              "       [0.6793768 ],\n",
              "       [0.76431113],\n",
              "       [0.76463584],\n",
              "       [0.73789844],\n",
              "       [0.7210115 ],\n",
              "       [0.75315507],\n",
              "       [0.76082548],\n",
              "       [0.75750082],\n",
              "       [0.70584389],\n",
              "       [0.76235092],\n",
              "       [0.76731945],\n",
              "       [0.75324634],\n",
              "       [0.69869165],\n",
              "       [0.74069897],\n",
              "       [0.7611244 ],\n",
              "       [0.72256484]])"
            ]
          },
          "metadata": {
            "tags": []
          },
          "execution_count": 35
        }
      ]
    },
    {
      "cell_type": "code",
      "metadata": {
        "id": "-HZ_WIgZsYbj"
      },
      "source": [
        "#error calc\n",
        "fl1=np.array(df.iloc[:,5])\n",
        "fl1=fl1.reshape((-1,1)) #-1 means  all rows. &1 column. u get shape as (150,1)\n",
        "fl2=np.array(df.iloc[:,6])\n",
        "fl2=fl2.reshape((-1,1))\n",
        "fl3=np.array(df.iloc[:,7])\n",
        "fl3=fl3.reshape((-1,1))\n",
        "\n",
        "error1=(o1-fl1)\n",
        "error2=(o2-fl2)\n",
        "error3=(o3-fl3)"
      ],
      "execution_count": null,
      "outputs": []
    },
    {
      "cell_type": "code",
      "metadata": {
        "colab": {
          "base_uri": "https://localhost:8080/"
        },
        "id": "xqDSwT-bnvrs",
        "outputId": "6188230a-4a07-4cdb-ecc3-76315e07be58"
      },
      "source": [
        "fl1.shape"
      ],
      "execution_count": null,
      "outputs": [
        {
          "output_type": "execute_result",
          "data": {
            "text/plain": [
              "(150, 1)"
            ]
          },
          "metadata": {
            "tags": []
          },
          "execution_count": 39
        }
      ]
    },
    {
      "cell_type": "code",
      "metadata": {
        "id": "9JGOIhnsnvs3"
      },
      "source": [
        "error1_square=np.multiply(error1,error1)\n",
        "error2_square=np.multiply(error2,error2)\n",
        "error3_square=np.multiply(error3,error3)"
      ],
      "execution_count": null,
      "outputs": []
    },
    {
      "cell_type": "code",
      "metadata": {
        "colab": {
          "base_uri": "https://localhost:8080/"
        },
        "id": "Cmf_wl77p6wW",
        "outputId": "3cbcef63-d8ac-4fe6-c1a9-599483cd2c11"
      },
      "source": [
        "error=error1_square +error2_square +error3_square\n",
        "print(np.sum(error))"
      ],
      "execution_count": null,
      "outputs": [
        {
          "output_type": "stream",
          "text": [
            "144.83471642466847\n"
          ],
          "name": "stdout"
        }
      ]
    },
    {
      "cell_type": "markdown",
      "metadata": {
        "id": "dGkPenUPuitT"
      },
      "source": [
        "Conclusion: \n",
        "<br>iris dataset of 150 samples is used for feedforward network. <br>\n",
        "Initial weights are generated using randomizer, since backpropagation is not used, feedforward network generates error equal to 144. If we change the weight using randomizer, the error will change. "
      ]
    }
  ]
}