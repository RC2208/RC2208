{
  "nbformat": 4,
  "nbformat_minor": 0,
  "metadata": {
    "colab": {
      "name": "ML_cheatcode.ipynb",
      "provenance": []
    },
    "kernelspec": {
      "name": "python3",
      "display_name": "Python 3"
    },
    "language_info": {
      "name": "python"
    }
  },
  "cells": [
    {
      "cell_type": "markdown",
      "source": [
        "# Pre-Processing"
      ],
      "metadata": {
        "id": "BxgMA_6IaH2W"
      }
    },
    {
      "cell_type": "code",
      "execution_count": null,
      "metadata": {
        "id": "aLcAaw0uV1FI"
      },
      "outputs": [],
      "source": [
        "data = pd.read_csv('whatever.csv')\n",
        "data.head()"
      ]
    },
    {
      "cell_type": "code",
      "source": [
        "data.info()\n",
        "data.shape\n",
        "data.describe()\n",
        "data['size'].value_counts()\n",
        "data['unit'].unique()"
      ],
      "metadata": {
        "id": "64Gn99q-WKsV"
      },
      "execution_count": null,
      "outputs": []
    },
    {
      "cell_type": "markdown",
      "source": [
        "### Select/Indexing"
      ],
      "metadata": {
        "id": "GhsRduSIKPJl"
      }
    },
    {
      "cell_type": "code",
      "source": [
        "df.iloc[:,: -1] # all rows and columns except last column\n",
        "df.iloc[:,3] #all rows and 3 columns\n",
        "df.iloc[:, 0-3]\n",
        "df.iloc[1:3] # row 1 & 2 and all columns \n",
        "df.iloc[0:5,[0,3]] # rows from 0 to 5 and column no. 0 and 3"
      ],
      "metadata": {
        "id": "_yd66qhyKRqr"
      },
      "execution_count": null,
      "outputs": []
    },
    {
      "cell_type": "code",
      "source": [
        "df[['col1','col2']] # same as df.loc[:,['col1','col2']]"
      ],
      "metadata": {
        "id": "bbpHqGtGNQGW"
      },
      "execution_count": null,
      "outputs": []
    },
    {
      "cell_type": "markdown",
      "source": [
        "## filtering"
      ],
      "metadata": {
        "id": "xxDjuEi4QtTl"
      }
    },
    {
      "cell_type": "code",
      "source": [
        "df[df['col1']>10]\n",
        "#or\n",
        "df2=df.loc[df['col1']>10,['col1','col2']]"
      ],
      "metadata": {
        "id": "cuLYQB_JQrRe"
      },
      "execution_count": null,
      "outputs": []
    },
    {
      "cell_type": "code",
      "source": [
        "# Find out all rides from Cary & New york\n",
        "my_rides = df[df[\"START*\"].isin([\"Cary\",\"New York\"])]\n",
        "\n",
        "# Find out all rides to Cary & Morrisville\n",
        "df.loc[df[\"START*\"]. isin([\"Cary\", \"Horrisville\"])]\n"
      ],
      "metadata": {
        "id": "bfpx7naBSFlV"
      },
      "execution_count": null,
      "outputs": []
    },
    {
      "cell_type": "markdown",
      "source": [
        "## Reset Index"
      ],
      "metadata": {
        "id": "MryIM32bThy6"
      }
    },
    {
      "cell_type": "code",
      "source": [
        "df.reset_index(inplace=True) #to reset index of orignal df also"
      ],
      "metadata": {
        "id": "paxeXxA9TkUH"
      },
      "execution_count": null,
      "outputs": []
    },
    {
      "cell_type": "markdown",
      "source": [
        "## sort"
      ],
      "metadata": {
        "id": "0pCsZroXUmMN"
      }
    },
    {
      "cell_type": "code",
      "source": [
        "df.sort_values(by=[\"MILES\"),ascending=False).head(5)\n"
      ],
      "metadata": {
        "id": "ako9cTjEUnv3"
      },
      "execution_count": null,
      "outputs": []
    },
    {
      "cell_type": "markdown",
      "source": [
        "## Group By"
      ],
      "metadata": {
        "id": "jv7kT82iWMam"
      }
    },
    {
      "cell_type": "code",
      "source": [
        "df.groupby('start')['Miles'].agg('mean')\n",
        "# calculate mean of miles column \n",
        "\n",
        "df.groupby('start')['Miles'].mean()\n"
      ],
      "metadata": {
        "id": "TuC8cvlnWOaW"
      },
      "execution_count": null,
      "outputs": []
    },
    {
      "cell_type": "markdown",
      "source": [
        "### Date Time conversion"
      ],
      "metadata": {
        "id": "d9xHSI4-aO3D"
      }
    },
    {
      "cell_type": "code",
      "source": [
        "df[\"Date\"]=pd.to_datetime(df.Date,format=\"%Y-%m-%d\")\n",
        "df.index=df['Date']\n",
        "train_data['DateAndTime'] = pd.to_datetime(train_data['DateAndTime'], format=\"%Y-%m-%d %S.%M.%H.%f\")"
      ],
      "metadata": {
        "id": "0C5xuAceaM3D"
      },
      "execution_count": null,
      "outputs": []
    },
    {
      "cell_type": "markdown",
      "source": [
        "#### Data type conversion"
      ],
      "metadata": {
        "id": "xeFfxFsZbax2"
      }
    },
    {
      "cell_type": "code",
      "source": [
        "data['price'] = data['price'].astype('int64')\n",
        "train['unit'] = train['unit'].astype(float)"
      ],
      "metadata": {
        "id": "IJo6X6EFbaDW"
      },
      "execution_count": null,
      "outputs": []
    },
    {
      "cell_type": "markdown",
      "source": [
        "### categorical to numeric"
      ],
      "metadata": {
        "id": "zMr233TGgifm"
      }
    },
    {
      "cell_type": "code",
      "source": [
        "#Convert categorical variable to numeric \n",
        "data['Sex_cleaned']=np.where(data['Sex']=='male',0,1)  #if sex, male replace with 0 else make it 1\n",
        "\n",
        "data['Embarked_cleaned']=np.where(data['Embarked']=='S',0,np.where(data['Embarked']=='C',1,np.where(data['Embarked']=='Q',2,3)))\n",
        "#if embarked=s then replace by 0 else if embarked =c replace it by 1 else if embarked =q replace it by 2 else if anything else makeit 3"
      ],
      "metadata": {
        "id": "iG6xfC1tglOI"
      },
      "execution_count": null,
      "outputs": []
    },
    {
      "cell_type": "markdown",
      "source": [
        "### convert to numpy Array"
      ],
      "metadata": {
        "id": "JTO4U9AJjmQ4"
      }
    },
    {
      "cell_type": "code",
      "source": [
        "test_data=df1.to_numpy()\n"
      ],
      "metadata": {
        "id": "gXnrfIRFjpg-"
      },
      "execution_count": null,
      "outputs": []
    },
    {
      "cell_type": "markdown",
      "source": [
        "### Label encoder (handling categorical data--> nimeric)"
      ],
      "metadata": {
        "id": "f8Z9qFwUiDrW"
      }
    },
    {
      "cell_type": "code",
      "source": [
        "# handling categorical data\n",
        "labelencoder_y= LabelEncoder()\n",
        "print(y)\n",
        "y=labelencoder_y.fit_transform(y)   #gives No =0 and yes =1\n",
        "print(y)"
      ],
      "metadata": {
        "id": "6YdELmdeiI1u"
      },
      "execution_count": null,
      "outputs": []
    },
    {
      "cell_type": "code",
      "source": [
        "labelencoder_z=LabelEncoder()\n",
        "z=df.iloc[:,0] #2 columns\n",
        "print(z)\n",
        "z=labelencoder_z.fit_transform(z)  #brazil=0,india=1,usa=2\n",
        "print(z)"
      ],
      "metadata": {
        "id": "RLe7ypv3iRu3"
      },
      "execution_count": null,
      "outputs": []
    },
    {
      "cell_type": "markdown",
      "source": [
        "#### Delete column"
      ],
      "metadata": {
        "id": "UChy1Ly_biQB"
      }
    },
    {
      "cell_type": "code",
      "source": [
        "data = data.drop('price_rupiah', axis=1)\n"
      ],
      "metadata": {
        "id": "Sg3MkmXnbrl9"
      },
      "execution_count": null,
      "outputs": []
    },
    {
      "cell_type": "markdown",
      "source": [
        "### Sorting data inside columns"
      ],
      "metadata": {
        "id": "mM4wQ_wgahQb"
      }
    },
    {
      "cell_type": "code",
      "source": [
        "data=df.sort_index(ascending=True,axis=0)\n",
        "new_dataset=pd.DataFrame(index=range(0,len(df)),columns=['Date','Close'])\n",
        "\n",
        "for i in range(0,len(data)):\n",
        "    new_dataset[\"Date\"][i]=data['Date'][i]\n",
        "    new_dataset[\"Close\"][i]=data[\"Close\"][i]\n",
        "\n",
        "new_dataset.head()"
      ],
      "metadata": {
        "id": "6ks5Eoo5aga6"
      },
      "execution_count": null,
      "outputs": []
    },
    {
      "cell_type": "markdown",
      "source": [
        "### Check is null"
      ],
      "metadata": {
        "id": "pHAJJXAmcSeN"
      }
    },
    {
      "cell_type": "code",
      "source": [
        "data.isnull().sum()"
      ],
      "metadata": {
        "id": "8NP9PMn6cZkQ"
      },
      "execution_count": null,
      "outputs": []
    },
    {
      "cell_type": "markdown",
      "source": [
        "### Replace null vals / drop na"
      ],
      "metadata": {
        "id": "JZmrYvMicvUW"
      }
    },
    {
      "cell_type": "code",
      "source": [
        "data['Seat Fare Type 1'] = data['Seat Fare Type 1'].replace('nan','0.0')\n",
        "\n",
        "data=data[['Survived','Pclass','Sex_cleaned','Age','SibSp','Parch','Fare','Embarked_cleaned']].dropna(axis=0,how='any')\n",
        "'''to drop rows or colomns containing nan,axis =0 is for droping rows , axis =1 is for droping columns,how =any will drop the\n",
        "row ifany value in it has nan if how = all, then all values in the row should have nan'''"
      ],
      "metadata": {
        "id": "-uUHs50ucyAV"
      },
      "execution_count": null,
      "outputs": []
    },
    {
      "cell_type": "markdown",
      "source": [
        "### Handling missing values"
      ],
      "metadata": {
        "id": "6Je8OXVChsYU"
      }
    },
    {
      "cell_type": "code",
      "source": [
        "from sklearn.impute import SimpleImputer\n",
        "\n",
        "imputer=SimpleImputer(missing_values=np.nan,strategy='mean')\n",
        "imputer=imputer.fit(x[:,1:])\n",
        "x[:,1:]=imputer.transform(x[:,1:])\n",
        "x"
      ],
      "metadata": {
        "id": "-gzj7fkUhwPg"
      },
      "execution_count": null,
      "outputs": []
    },
    {
      "cell_type": "markdown",
      "source": [
        "### Min-Max Scaler"
      ],
      "metadata": {
        "id": "kEsOamyLa04n"
      }
    },
    {
      "cell_type": "code",
      "source": [
        "#We are scaling the values to fit between 0 and 1\n",
        "from sklearn.preprocessing import MinMaxScaler\n",
        "#scale=MinMaxScaler( feature_range=(0,1))\n",
        "#train_set_scaled=scale.fit_transform(train_set)\n",
        "\n",
        "scaler=MinMaxScaler(feature_range=(0,1))\n",
        "final_dataset=new_dataset.values"
      ],
      "metadata": {
        "id": "urW_AC5Ta0L_"
      },
      "execution_count": null,
      "outputs": []
    },
    {
      "cell_type": "markdown",
      "source": [
        "### Standard scaler"
      ],
      "metadata": {
        "id": "qz46pQ_rbzyf"
      }
    },
    {
      "cell_type": "code",
      "source": [
        "from sklearn.preprocessing import StandardScaler\n",
        "scaler = StandardScaler()\n",
        "x_train = scaler.fit_transform(x_train)"
      ],
      "metadata": {
        "id": "DZZHVAyVWKzA"
      },
      "execution_count": null,
      "outputs": []
    },
    {
      "cell_type": "code",
      "source": [
        "#feature scaling and preprocessing\n",
        "scaler=StandardScaler()\n",
        "scaler.fit(X_train)\n",
        "X_train=scaler.transform(X_train)\n",
        "X_test=scaler.transform(X_test)"
      ],
      "metadata": {
        "id": "3razBLWjlDAo"
      },
      "execution_count": null,
      "outputs": []
    },
    {
      "cell_type": "code",
      "source": [
        "from sklearn.preprocessing import StandardScaler, LabelEncoder\n",
        "categorical_cols = ['topping', 'variant','company']\n",
        "encoder = LabelEncoder()\n",
        "for col in categorical_cols:\n",
        "    data[col] = encoder.fit_transform(data[col])"
      ],
      "metadata": {
        "id": "j9EOiE4zWK2L"
      },
      "execution_count": null,
      "outputs": []
    },
    {
      "cell_type": "markdown",
      "source": [
        "Data Visualization"
      ],
      "metadata": {
        "id": "1UTZOxbgXYD1"
      }
    },
    {
      "cell_type": "code",
      "source": [
        "data.corr()\n"
      ],
      "metadata": {
        "id": "BF28NVFkWK5V"
      },
      "execution_count": null,
      "outputs": []
    },
    {
      "cell_type": "code",
      "source": [
        "plt.figure(figsize=(8,7))\n",
        "sns.boxplot(y='topping', x='price', data=data, palette='copper')\n",
        "plt.title('Price by Topping')\n",
        "plt.show()"
      ],
      "metadata": {
        "id": "NMb2C85FWK8b"
      },
      "execution_count": null,
      "outputs": []
    },
    {
      "cell_type": "markdown",
      "source": [
        "### Heat Map"
      ],
      "metadata": {
        "id": "g-m71c-jb-4v"
      }
    },
    {
      "cell_type": "code",
      "source": [
        "plt.figure(figsize=(12,12))\n",
        "trainplot = sns.heatmap(train.corr(), cmap=\"copper_r\", annot=False)\n",
        "plt.show()"
      ],
      "metadata": {
        "id": "NEpgKCIkcAq9"
      },
      "execution_count": null,
      "outputs": []
    },
    {
      "cell_type": "markdown",
      "source": [
        "## Confusion matrix"
      ],
      "metadata": {
        "id": "Nox6-h_QpMmR"
      }
    },
    {
      "cell_type": "code",
      "source": [
        "confusion matrix\n",
        "from sklearn.metrics import confusion_matrix\n",
        "confusion_matrix(y_test, y_pred)"
      ],
      "metadata": {
        "id": "x02CJOJypPBQ"
      },
      "execution_count": null,
      "outputs": []
    },
    {
      "cell_type": "markdown",
      "source": [
        "Model"
      ],
      "metadata": {
        "id": "D49rSq1mXhLd"
      }
    },
    {
      "cell_type": "code",
      "source": [
        "from sklearn.model_selection import train_test_split\n",
        "from sklearn.linear_model import LinearRegression\n",
        "from sklearn.ensemble import RandomForestRegressor\n",
        "from sklearn.linear_model import Ridge"
      ],
      "metadata": {
        "id": "CYX-52qlWK_P"
      },
      "execution_count": null,
      "outputs": []
    },
    {
      "cell_type": "code",
      "source": [
        "x=data.drop('price', axis = 1).values"
      ],
      "metadata": {
        "id": "AJmuoPotWLCI"
      },
      "execution_count": null,
      "outputs": []
    },
    {
      "cell_type": "code",
      "source": [
        "y=data['price'].values\n"
      ],
      "metadata": {
        "id": "rI18QlurXqqG"
      },
      "execution_count": null,
      "outputs": []
    },
    {
      "cell_type": "markdown",
      "source": [
        "#### Train test split"
      ],
      "metadata": {
        "id": "YOH6tGpYhFwh"
      }
    },
    {
      "cell_type": "code",
      "source": [
        "x_train, x_test, y_train, y_test = train_test_split(x, y, test_size = 0.30, random_state = 25)\n",
        "from sklearn.model_selection import train_test_split\n"
      ],
      "metadata": {
        "id": "WdDVqevOXqst"
      },
      "execution_count": null,
      "outputs": []
    },
    {
      "cell_type": "markdown",
      "source": [
        "# K-Neigbhours"
      ],
      "metadata": {
        "id": "ihVOL2WGlRJn"
      }
    },
    {
      "cell_type": "code",
      "source": [
        "from sklearn.neighbors import KNeighborsClassifier\n",
        "\n",
        "#training\n",
        "classifier=KNeighborsClassifier(n_neighbors=5)\n",
        "classifier.fit(X_train, Y_train)"
      ],
      "metadata": {
        "id": "AHMsru7ElTZQ"
      },
      "execution_count": null,
      "outputs": []
    },
    {
      "cell_type": "code",
      "source": [
        "#predictions\n",
        "y_pred=classifier.predict(X_test)\n",
        "y_pred"
      ],
      "metadata": {
        "id": "aMs3eAF2lY1o"
      },
      "execution_count": null,
      "outputs": []
    },
    {
      "cell_type": "code",
      "source": [
        "#Evaluating performance of algorithm \n",
        "confusion_matrix=pd.crosstab(Y_test,y_pred,rownames=['Actual'],colnames=['Predicted'])\n",
        "sn.heatmap(confusion_matrix,annot=True)"
      ],
      "metadata": {
        "id": "eaOPEKZKldNa"
      },
      "execution_count": null,
      "outputs": []
    },
    {
      "cell_type": "markdown",
      "source": [
        "# Naive Bayes"
      ],
      "metadata": {
        "id": "SGLSNsychLNw"
      }
    },
    {
      "cell_type": "code",
      "source": [
        "from sklearn.naive_bayes import GaussianNB \n",
        "\n",
        "gnb=GaussianNB()\n",
        "used_features=['Pclass','Sex_cleaned','Age','SibSp','Parch','Fare','Embarked_cleaned']"
      ],
      "metadata": {
        "id": "rV_KTZMthNGw"
      },
      "execution_count": null,
      "outputs": []
    },
    {
      "cell_type": "code",
      "source": [
        "#Training the classifier\n",
        "gnb.fit(x_train[used_features].values,x_train['Survived'])"
      ],
      "metadata": {
        "id": "6e5gVPEDhWcG"
      },
      "execution_count": null,
      "outputs": []
    },
    {
      "cell_type": "code",
      "source": [
        "#prediction\n",
        "y_pred=gnb.predict(x_test[used_features])"
      ],
      "metadata": {
        "id": "2lxR7xUxhYLm"
      },
      "execution_count": null,
      "outputs": []
    },
    {
      "cell_type": "code",
      "source": [
        "#Print results\n",
        "Total_samples_tested = x_test.shape[0]\n",
        "print(Total_samples_tested)"
      ],
      "metadata": {
        "id": "snySnIgBhaQG"
      },
      "execution_count": null,
      "outputs": []
    },
    {
      "cell_type": "markdown",
      "source": [
        "# Random Forest Regressor\n"
      ],
      "metadata": {
        "id": "xuQ1YOVsXvlM"
      }
    },
    {
      "cell_type": "code",
      "source": [
        "rf = RandomForestRegressor()"
      ],
      "metadata": {
        "id": "88N23VILXqvV"
      },
      "execution_count": null,
      "outputs": []
    },
    {
      "cell_type": "code",
      "source": [
        "rf.fit(x_train, y_train)"
      ],
      "metadata": {
        "id": "kHtn-XhCXqx9"
      },
      "execution_count": null,
      "outputs": []
    },
    {
      "cell_type": "code",
      "source": [
        "\n",
        "RandomForestRegressor()\n",
        "rf_pred= rf.predict(x_test)"
      ],
      "metadata": {
        "id": "VtafDOoXYAr_"
      },
      "execution_count": null,
      "outputs": []
    },
    {
      "cell_type": "markdown",
      "source": [
        "# Kmeans"
      ],
      "metadata": {
        "id": "PZpZGThWqLxw"
      }
    },
    {
      "cell_type": "code",
      "source": [
        "from sklearn.cluster import KMeans\n",
        "km = KMeans(n_clusters=4, init='random', max_iter=100, tol=1e-04, random_state=0)\n",
        "y_km = km.fit_predict(X)"
      ],
      "metadata": {
        "id": "N9q0ZjdqqNnx"
      },
      "execution_count": null,
      "outputs": []
    },
    {
      "cell_type": "code",
      "source": [
        "#plot the 3 clusters\n",
        "plt.scatter(X[y_km==0, 0], X[y_km==0, 1], s=50, c='lightgreen', marker='s', edgecolor='black', label='cluster 1')\n",
        "plt.scatter(X[y_km==1, 0], X[y_km==1, 1], s=50, c='orange', marker='o', edgecolor='black', label='cluster 2')\n",
        "plt.scatter(X[y_km==2, 0], X[y_km==2, 1], s=50, c='lightblue', marker='o', edgecolor='black', label='cluster 3')\n",
        "plt.scatter(X[y_km==3, 0], X[y_km==3, 1], s=50, c='yellow', marker='o', edgecolor='black', label='cluster 4')\n",
        "plt.scatter(km.cluster_centers_[:,0], km.cluster_centers_[:,1], s=250, marker='*', c='red', edgecolor= 'black', label = 'centroids')\n",
        "plt.legend(scatterpoints = 1)\n",
        "plt.grid()"
      ],
      "metadata": {
        "id": "Xr4lZr0zqSaB"
      },
      "execution_count": null,
      "outputs": []
    },
    {
      "cell_type": "code",
      "source": [
        "km.cluster_centers_\n"
      ],
      "metadata": {
        "id": "Zk3IUooOqWcx"
      },
      "execution_count": null,
      "outputs": []
    },
    {
      "cell_type": "markdown",
      "source": [
        "# Ridge Regression"
      ],
      "metadata": {
        "id": "2XklA-qNYDJG"
      }
    },
    {
      "cell_type": "code",
      "source": [
        "rm = Ridge(alpha=1.0)\n",
        "rm.fit(x_train, y_train)\n",
        "rm_pred= rm.predict(x_test)"
      ],
      "metadata": {
        "id": "W87yK5OHYH3l"
      },
      "execution_count": null,
      "outputs": []
    },
    {
      "cell_type": "markdown",
      "source": [
        "# Linear regression"
      ],
      "metadata": {
        "id": "xqCZJTUvYSUW"
      }
    },
    {
      "cell_type": "code",
      "source": [
        "import statsmodels.api as sm\n",
        "from sklearn import linear_model"
      ],
      "metadata": {
        "id": "ezRI1Etcm0Nw"
      },
      "execution_count": null,
      "outputs": []
    },
    {
      "cell_type": "code",
      "source": [
        "lr = LinearRegression()\n",
        "lr.fit(x_train, y_train)\n",
        "lr_pred = lr.predict(x_test)"
      ],
      "metadata": {
        "id": "eMpw2uNsYRou"
      },
      "execution_count": null,
      "outputs": []
    },
    {
      "cell_type": "code",
      "source": [
        "# with sklearn\n",
        "regr = linear_model.LinearRegression()\n",
        "regr.fit(X, Y)\n",
        "print(\"Intercept: \\n\", regr.intercept_)\n",
        "print(\"Coefficients: \\n\", regr.coef_)\n"
      ],
      "metadata": {
        "id": "dABtUHNSmZp6"
      },
      "execution_count": null,
      "outputs": []
    },
    {
      "cell_type": "code",
      "source": [
        "# with statsmodels\n",
        "X = sm.add_constant(X)\n",
        "print(X.shape)\n",
        "model = sm.OLS(Y, X).fit()\n",
        "predictions = model.predict(X)\n",
        "print_model = model.summary()\n",
        "print(print_model)\n",
        "\n",
        "X1 = df['Interest_Rate']\n",
        "Y1 = df['Stock_Index_Price']\n",
        "X1 = np.array(X1)\n",
        "X1 = X1.reshape((-1, 1))\n",
        "regr1 = linear_model.LinearRegression()\n",
        "regr1.fit(X1, Y1)\n",
        "\n",
        "print(\"Intercept: \\n\", regr.intercept_)\n",
        "print(\"Coefficients: \\n\", regr.coef_)"
      ],
      "metadata": {
        "id": "_RcXSbl6mm8I"
      },
      "execution_count": null,
      "outputs": []
    },
    {
      "cell_type": "code",
      "source": [
        "X1 = sm.add_constant(X1)\n",
        "print(X1.shape)\n",
        "model1 = sm.OLS(Y1, X1).fit()\n",
        "predictions1 = model1.predict(X1)\n",
        "print_model1 = model1.summary()\n",
        "print(print_model1)\n"
      ],
      "metadata": {
        "id": "61aiOB0_nJfx"
      },
      "execution_count": null,
      "outputs": []
    },
    {
      "cell_type": "code",
      "source": [
        "x1 = df['gmat']\n",
        "y1 = df['admitted']\n",
        "x1 = np.array(x1)\n",
        "print(x1.shape)\n",
        "x1 = x1.reshape((-1, 1))\n",
        "print(x1.reshape)\n",
        "y1 = np.array(y1)\n",
        "print(y1.shape)\n",
        "\n",
        "model = LinearRegression()\n",
        "model.fit(x1, y1)\n",
        "\n",
        "b1 = model.coef_\n",
        "b0 = model.intercept_\n",
        "yhat = b0 + (b1 * x1)\n",
        "yhat = yhat - np.mean(yhat)\n",
        "sig = 1/(1 + np.exp(-yhat))\n",
        "sh = sig.shape\n",
        "print(sh[0])\n",
        "\n",
        "output = np.zeros((sh[0], 1))\n",
        "for i in range(0, sh[0]):\n",
        " if sig[i] > 0.5:\n",
        " output[i] = 1\n",
        " else:\n",
        " output[i] = 0 \n",
        "\n",
        "y2 = y1.reshape((1, sh[0]))\n",
        "output = output.reshape((1, sh[0]))\n",
        "print(\"Output: \", output, \"\\n\")\n",
        "print(\"Label: \", y2)\n",
        "error = 0\n",
        "\n",
        "for i in range(0, sh[0]):\n",
        " if output[0][i]!=y2[0][i]:\n",
        " error = error + 1\n",
        "print(\"Error: \", error)\n",
        "\n",
        "#plot \n",
        "plt.scatter(yhat, y2)\n",
        "plt.plot(yhat, sig)\n"
      ],
      "metadata": {
        "id": "UIQ5E0MBoAQ_"
      },
      "execution_count": null,
      "outputs": []
    },
    {
      "cell_type": "markdown",
      "source": [
        "[Linear regression notebook](https://colab.research.google.com/drive/14AeNEpgaYa5rlI7l7p1spsh5AgPR7IPP)"
      ],
      "metadata": {
        "id": "A9RwJ8sIZIW-"
      }
    },
    {
      "cell_type": "markdown",
      "source": [
        "# Acuuracy"
      ],
      "metadata": {
        "id": "Oh3-o6F7Ynpl"
      }
    },
    {
      "cell_type": "code",
      "source": [
        "from sklearn.metrics import mean_absolute_error,mean_squared_error,accuracy_score\n",
        "from sklearn.metrics import r2_score\n",
        "R2 Score\n",
        "print(r2_score(y_test, lr_pred))\n",
        "print(r2_score(y_test, rf_pred))\n",
        "print(r2_score(y_test, rm_pred))\n",
        "print(r2_score(y_test, xgb_pred))\n",
        "\n"
      ],
      "metadata": {
        "id": "kBBeRu1dYhi3"
      },
      "execution_count": null,
      "outputs": []
    },
    {
      "cell_type": "code",
      "source": [
        "RMSE Score\n",
        "rm_rmse=np.sqrt(mean_squared_error(y_test,rm_pred))\n",
        "rf_rmse=np.sqrt(mean_squared_error(y_test,rf_pred))\n",
        "lr_rmse=np.sqrt(mean_squared_error(y_test,lr_pred))\n"
      ],
      "metadata": {
        "id": "8EbwWvZMYlEV"
      },
      "execution_count": null,
      "outputs": []
    },
    {
      "cell_type": "code",
      "source": [
        "xgb_rmse = np.sqrt(mean_squared_error(y_test,xgb_pred))\n",
        "model_ev = pd.DataFrame({'Model': ['Linear Regression','Ridge Regression','Random Forest Regression','XG Boost Regressor'], \n",
        "                         'RMSE': [lr_rmse,rm_rmse, rf_rmse,xgb_rmse]})"
      ],
      "metadata": {
        "id": "ZskrfhrCXq25"
      },
      "execution_count": null,
      "outputs": []
    },
    {
      "cell_type": "code",
      "source": [
        "model = LogisticRegression() \n",
        "model.fit(X_train, y_train) \n",
        "y_pred = model.predict(X_test) \n",
        "accuracy = metrics.accuracy_score(y_test, y_pred) \n",
        "accuracy \n"
      ],
      "metadata": {
        "id": "ghW7rcbNXq5t"
      },
      "execution_count": null,
      "outputs": []
    },
    {
      "cell_type": "markdown",
      "source": [
        "## Precision"
      ],
      "metadata": {
        "id": "BvGrMzC_pSsZ"
      }
    },
    {
      "cell_type": "code",
      "source": [
        "#Precision and recall\n",
        "from sklearn.metrics import precision_score, recall_score\n",
        "precision_score(y_test, y_pred) # true positive/(true positive +false positive) = 41/(41+4)"
      ],
      "metadata": {
        "id": "Z-cnbUbAWLFB"
      },
      "execution_count": null,
      "outputs": []
    },
    {
      "cell_type": "code",
      "source": [
        "recall_score(y_test, y_pred) # (41/(41+23)) = true positive/(true positive +false negative)\n"
      ],
      "metadata": {
        "id": "deaXVrcgWLHt"
      },
      "execution_count": null,
      "outputs": []
    },
    {
      "cell_type": "code",
      "source": [
        "#F1 score \n",
        "from sklearn.metrics import f1_score\n",
        "f1_score(y_test, y_pred) # 2*(precision_score * recall_score)/(precision_score + recall_score) = Harmonic mean of precision_score, recall_score."
      ],
      "metadata": {
        "id": "Ec9mjGgYpaIw"
      },
      "execution_count": null,
      "outputs": []
    },
    {
      "cell_type": "markdown",
      "source": [
        "# Cross Val"
      ],
      "metadata": {
        "id": "_XKIEhjEpi7H"
      }
    },
    {
      "cell_type": "code",
      "source": [
        "#plotting of ROC curve\n",
        "from sklearn.model_selection import cross_val_predict\n",
        "y_scores = cross_val_predict(classifier, X_train, y_train, cv = 3, method = \"predict\")"
      ],
      "metadata": {
        "id": "Sqm3Vfy2piQw"
      },
      "execution_count": null,
      "outputs": []
    },
    {
      "cell_type": "code",
      "source": [
        "from sklearn.metrics import roc_curve\n",
        "fpr, tpr, thresholds = roc_curve(y_train, y_scores)\n",
        "def plot_roc_curve(fpr, tpr, label = None):  # fpr = false positive rate, tpr = true positive rate\n",
        "  plt.plot(fpr, tpr, linewidth = 2, label = label)\n",
        "  plt.plot([0,1],[0,1], 'k--')\n",
        "  plt.axis([0,1,0,1])\n",
        "  plt.xlabel('False Positive Rate')\n",
        "  plt.xlabel('True Positive Rate')"
      ],
      "metadata": {
        "id": "Pua6CJl7piTY"
      },
      "execution_count": null,
      "outputs": []
    },
    {
      "cell_type": "code",
      "source": [
        "# area under ROC curve\n",
        "from sklearn.metrics import roc_auc_score\n",
        "roc_auc_score(y_train, y_scores) # Gives the area under ROC curve"
      ],
      "metadata": {
        "id": "ELJ_ApeapiWL"
      },
      "execution_count": null,
      "outputs": []
    },
    {
      "cell_type": "markdown",
      "source": [
        ""
      ],
      "metadata": {
        "id": "hskUuKTZpuIw"
      }
    }
  ]
}